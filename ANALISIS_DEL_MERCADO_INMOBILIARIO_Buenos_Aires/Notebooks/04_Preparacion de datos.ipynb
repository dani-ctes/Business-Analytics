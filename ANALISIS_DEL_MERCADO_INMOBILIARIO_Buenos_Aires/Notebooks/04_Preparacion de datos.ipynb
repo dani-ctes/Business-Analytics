{
 "cells": [
  {
   "cell_type": "markdown",
   "id": "ca361e15",
   "metadata": {},
   "source": [
    "# PREPARACION DE DATOS"
   ]
  },
  {
   "cell_type": "markdown",
   "id": "8758483d",
   "metadata": {},
   "source": [
    "En esta fase se crean nuevas variables o transformar las variables existentes, para dar mejor respuesta a nuestros objetivos."
   ]
  },
  {
   "cell_type": "markdown",
   "id": "b6008fc0",
   "metadata": {},
   "source": [
    "## SETUP"
   ]
  },
  {
   "cell_type": "code",
   "execution_count": 1,
   "id": "4c4da02d",
   "metadata": {},
   "outputs": [
    {
     "name": "stderr",
     "output_type": "stream",
     "text": [
      "C:\\Users\\dt_i01626\\AppData\\Local\\Temp\\ipykernel_16980\\975634074.py:2: DeprecationWarning: \n",
      "Pyarrow will become a required dependency of pandas in the next major release of pandas (pandas 3.0),\n",
      "(to allow more performant data types, such as the Arrow string type, and better interoperability with other libraries)\n",
      "but was not found to be installed on your system.\n",
      "If this would cause problems for you,\n",
      "please provide us feedback at https://github.com/pandas-dev/pandas/issues/54466\n",
      "        \n",
      "  import pandas as pd\n"
     ]
    }
   ],
   "source": [
    "import numpy as np\n",
    "import pandas as pd\n",
    "import matplotlib.pyplot as plt\n",
    "\n",
    "%matplotlib inline\n",
    "\n",
    "import seaborn as sns\n",
    "import sqlalchemy as sa\n",
    "\n",
    "%config IPCompleter.greedy = True\n",
    "\n",
    "pd.options.display.max_columns = None"
   ]
  },
  {
   "cell_type": "markdown",
   "id": "254822ca",
   "metadata": {},
   "source": [
    "## CARGA DE DATOS"
   ]
  },
  {
   "cell_type": "code",
   "execution_count": 2,
   "id": "5cfa97a7",
   "metadata": {},
   "outputs": [],
   "source": [
    "con = sa.create_engine('sqlite:///../Datos/airbnb2.db')"
   ]
  },
  {
   "cell_type": "code",
   "execution_count": 3,
   "id": "b44d6d05",
   "metadata": {
    "scrolled": false
   },
   "outputs": [
    {
     "data": {
      "text/html": [
       "<div>\n",
       "<style scoped>\n",
       "    .dataframe tbody tr th:only-of-type {\n",
       "        vertical-align: middle;\n",
       "    }\n",
       "\n",
       "    .dataframe tbody tr th {\n",
       "        vertical-align: top;\n",
       "    }\n",
       "\n",
       "    .dataframe thead th {\n",
       "        text-align: right;\n",
       "    }\n",
       "</style>\n",
       "<table border=\"1\" class=\"dataframe\">\n",
       "  <thead>\n",
       "    <tr style=\"text-align: right;\">\n",
       "      <th></th>\n",
       "      <th>level_0</th>\n",
       "      <th>id</th>\n",
       "      <th>name</th>\n",
       "      <th>host_id</th>\n",
       "      <th>neighbourhood</th>\n",
       "      <th>latitude</th>\n",
       "      <th>longitude</th>\n",
       "      <th>room_type</th>\n",
       "      <th>price</th>\n",
       "      <th>minimum_nights</th>\n",
       "      <th>calculated_host_listings_count</th>\n",
       "      <th>availability_365</th>\n",
       "      <th>neighbourhood_cleansed</th>\n",
       "      <th>host_is_superhost</th>\n",
       "      <th>accommodates</th>\n",
       "      <th>bathrooms</th>\n",
       "      <th>bedrooms</th>\n",
       "      <th>beds</th>\n",
       "      <th>number_of_reviews</th>\n",
       "      <th>review_scores_rating</th>\n",
       "      <th>review_scores_communication</th>\n",
       "      <th>review_scores_location</th>\n",
       "      <th>index</th>\n",
       "      <th>barrio</th>\n",
       "      <th>precio_m2</th>\n",
       "    </tr>\n",
       "  </thead>\n",
       "  <tbody>\n",
       "    <tr>\n",
       "      <th>0</th>\n",
       "      <td>0</td>\n",
       "      <td>14222</td>\n",
       "      <td>Rental unit in Palermo/Buenos Aires · ★4.77 · ...</td>\n",
       "      <td>87710233</td>\n",
       "      <td>Palermo</td>\n",
       "      <td>-34.58617</td>\n",
       "      <td>-58.41036</td>\n",
       "      <td>Entire home/apt</td>\n",
       "      <td>32123.0</td>\n",
       "      <td>7</td>\n",
       "      <td>8</td>\n",
       "      <td>161</td>\n",
       "      <td>Palermo</td>\n",
       "      <td>t</td>\n",
       "      <td>2</td>\n",
       "      <td>1.0</td>\n",
       "      <td>1.0</td>\n",
       "      <td>1.0</td>\n",
       "      <td>114</td>\n",
       "      <td>4.77</td>\n",
       "      <td>4.89</td>\n",
       "      <td>4.87</td>\n",
       "      <td>45</td>\n",
       "      <td>Palermo</td>\n",
       "      <td>2917</td>\n",
       "    </tr>\n",
       "    <tr>\n",
       "      <th>1</th>\n",
       "      <td>1</td>\n",
       "      <td>15074</td>\n",
       "      <td>Rental unit in Buenos Aires · 1 bedroom · 1 be...</td>\n",
       "      <td>59338</td>\n",
       "      <td>Nuñez</td>\n",
       "      <td>-34.53892</td>\n",
       "      <td>-58.46599</td>\n",
       "      <td>Private room</td>\n",
       "      <td>24230.0</td>\n",
       "      <td>29</td>\n",
       "      <td>1</td>\n",
       "      <td>0</td>\n",
       "      <td>Nuñez</td>\n",
       "      <td>f</td>\n",
       "      <td>1</td>\n",
       "      <td>1.0</td>\n",
       "      <td>1.0</td>\n",
       "      <td>1.0</td>\n",
       "      <td>0</td>\n",
       "      <td>NaN</td>\n",
       "      <td>NaN</td>\n",
       "      <td>NaN</td>\n",
       "      <td>43</td>\n",
       "      <td>Nuñez</td>\n",
       "      <td>2643</td>\n",
       "    </tr>\n",
       "    <tr>\n",
       "      <th>2</th>\n",
       "      <td>2</td>\n",
       "      <td>20429</td>\n",
       "      <td>Rental unit in Buenos Aires · 1 bedroom · 1 be...</td>\n",
       "      <td>77065</td>\n",
       "      <td>Constitucion</td>\n",
       "      <td>-34.62260</td>\n",
       "      <td>-58.38704</td>\n",
       "      <td>Entire home/apt</td>\n",
       "      <td>28268.0</td>\n",
       "      <td>15</td>\n",
       "      <td>1</td>\n",
       "      <td>0</td>\n",
       "      <td>Constitucion</td>\n",
       "      <td>f</td>\n",
       "      <td>2</td>\n",
       "      <td>1.0</td>\n",
       "      <td>1.0</td>\n",
       "      <td>1.0</td>\n",
       "      <td>0</td>\n",
       "      <td>NaN</td>\n",
       "      <td>NaN</td>\n",
       "      <td>NaN</td>\n",
       "      <td>8</td>\n",
       "      <td>Constitucion</td>\n",
       "      <td>1650</td>\n",
       "    </tr>\n",
       "    <tr>\n",
       "      <th>3</th>\n",
       "      <td>3</td>\n",
       "      <td>24713</td>\n",
       "      <td>Rental unit in Buenos Aires · ★4.66 · 1 bedroo...</td>\n",
       "      <td>100743</td>\n",
       "      <td>San Nicolas</td>\n",
       "      <td>-34.60254</td>\n",
       "      <td>-58.37811</td>\n",
       "      <td>Entire home/apt</td>\n",
       "      <td>32242.0</td>\n",
       "      <td>1</td>\n",
       "      <td>8</td>\n",
       "      <td>78</td>\n",
       "      <td>San Nicolas</td>\n",
       "      <td>t</td>\n",
       "      <td>3</td>\n",
       "      <td>1.0</td>\n",
       "      <td>1.0</td>\n",
       "      <td>2.0</td>\n",
       "      <td>377</td>\n",
       "      <td>4.66</td>\n",
       "      <td>4.90</td>\n",
       "      <td>4.84</td>\n",
       "      <td>10</td>\n",
       "      <td>San Nicolas</td>\n",
       "      <td>1734</td>\n",
       "    </tr>\n",
       "    <tr>\n",
       "      <th>4</th>\n",
       "      <td>4</td>\n",
       "      <td>26258</td>\n",
       "      <td>Rental unit in Buenos Aires · 1 bedroom · 2 be...</td>\n",
       "      <td>111013</td>\n",
       "      <td>Almagro</td>\n",
       "      <td>-34.59997</td>\n",
       "      <td>-58.41238</td>\n",
       "      <td>Entire home/apt</td>\n",
       "      <td>20151.0</td>\n",
       "      <td>7</td>\n",
       "      <td>1</td>\n",
       "      <td>364</td>\n",
       "      <td>Almagro</td>\n",
       "      <td>f</td>\n",
       "      <td>2</td>\n",
       "      <td>1.0</td>\n",
       "      <td>1.0</td>\n",
       "      <td>2.0</td>\n",
       "      <td>2</td>\n",
       "      <td>3.50</td>\n",
       "      <td>5.00</td>\n",
       "      <td>5.00</td>\n",
       "      <td>25</td>\n",
       "      <td>Almagro</td>\n",
       "      <td>1974</td>\n",
       "    </tr>\n",
       "  </tbody>\n",
       "</table>\n",
       "</div>"
      ],
      "text/plain": [
       "   level_0     id                                               name  \\\n",
       "0        0  14222  Rental unit in Palermo/Buenos Aires · ★4.77 · ...   \n",
       "1        1  15074  Rental unit in Buenos Aires · 1 bedroom · 1 be...   \n",
       "2        2  20429  Rental unit in Buenos Aires · 1 bedroom · 1 be...   \n",
       "3        3  24713  Rental unit in Buenos Aires · ★4.66 · 1 bedroo...   \n",
       "4        4  26258  Rental unit in Buenos Aires · 1 bedroom · 2 be...   \n",
       "\n",
       "    host_id neighbourhood  latitude  longitude        room_type    price  \\\n",
       "0  87710233       Palermo -34.58617  -58.41036  Entire home/apt  32123.0   \n",
       "1     59338         Nuñez -34.53892  -58.46599     Private room  24230.0   \n",
       "2     77065  Constitucion -34.62260  -58.38704  Entire home/apt  28268.0   \n",
       "3    100743   San Nicolas -34.60254  -58.37811  Entire home/apt  32242.0   \n",
       "4    111013       Almagro -34.59997  -58.41238  Entire home/apt  20151.0   \n",
       "\n",
       "   minimum_nights  calculated_host_listings_count  availability_365  \\\n",
       "0               7                               8               161   \n",
       "1              29                               1                 0   \n",
       "2              15                               1                 0   \n",
       "3               1                               8                78   \n",
       "4               7                               1               364   \n",
       "\n",
       "  neighbourhood_cleansed host_is_superhost  accommodates  bathrooms  bedrooms  \\\n",
       "0                Palermo                 t             2        1.0       1.0   \n",
       "1                  Nuñez                 f             1        1.0       1.0   \n",
       "2           Constitucion                 f             2        1.0       1.0   \n",
       "3            San Nicolas                 t             3        1.0       1.0   \n",
       "4                Almagro                 f             2        1.0       1.0   \n",
       "\n",
       "   beds  number_of_reviews  review_scores_rating  review_scores_communication  \\\n",
       "0   1.0                114                  4.77                         4.89   \n",
       "1   1.0                  0                   NaN                          NaN   \n",
       "2   1.0                  0                   NaN                          NaN   \n",
       "3   2.0                377                  4.66                         4.90   \n",
       "4   2.0                  2                  3.50                         5.00   \n",
       "\n",
       "   review_scores_location  index        barrio  precio_m2  \n",
       "0                    4.87     45       Palermo       2917  \n",
       "1                     NaN     43         Nuñez       2643  \n",
       "2                     NaN      8  Constitucion       1650  \n",
       "3                    4.84     10   San Nicolas       1734  \n",
       "4                    5.00     25       Almagro       1974  "
      ]
     },
     "execution_count": 3,
     "metadata": {},
     "output_type": "execute_result"
    }
   ],
   "source": [
    "df = pd.read_sql('df', con = con)\n",
    "df.head()"
   ]
  },
  {
   "cell_type": "code",
   "execution_count": 4,
   "id": "7850b53f",
   "metadata": {
    "scrolled": true
   },
   "outputs": [],
   "source": [
    "df.drop(columns = 'level_0', inplace = True)"
   ]
  },
  {
   "cell_type": "code",
   "execution_count": 5,
   "id": "36821dd9",
   "metadata": {},
   "outputs": [
    {
     "data": {
      "text/html": [
       "<div>\n",
       "<style scoped>\n",
       "    .dataframe tbody tr th:only-of-type {\n",
       "        vertical-align: middle;\n",
       "    }\n",
       "\n",
       "    .dataframe tbody tr th {\n",
       "        vertical-align: top;\n",
       "    }\n",
       "\n",
       "    .dataframe thead th {\n",
       "        text-align: right;\n",
       "    }\n",
       "</style>\n",
       "<table border=\"1\" class=\"dataframe\">\n",
       "  <thead>\n",
       "    <tr style=\"text-align: right;\">\n",
       "      <th></th>\n",
       "      <th>id</th>\n",
       "      <th>name</th>\n",
       "      <th>host_id</th>\n",
       "      <th>neighbourhood</th>\n",
       "      <th>latitude</th>\n",
       "      <th>longitude</th>\n",
       "      <th>room_type</th>\n",
       "      <th>price</th>\n",
       "      <th>minimum_nights</th>\n",
       "      <th>calculated_host_listings_count</th>\n",
       "      <th>availability_365</th>\n",
       "      <th>neighbourhood_cleansed</th>\n",
       "      <th>host_is_superhost</th>\n",
       "      <th>accommodates</th>\n",
       "      <th>bathrooms</th>\n",
       "      <th>bedrooms</th>\n",
       "      <th>beds</th>\n",
       "      <th>number_of_reviews</th>\n",
       "      <th>review_scores_rating</th>\n",
       "      <th>review_scores_communication</th>\n",
       "      <th>review_scores_location</th>\n",
       "      <th>index</th>\n",
       "      <th>barrio</th>\n",
       "      <th>precio_m2</th>\n",
       "    </tr>\n",
       "  </thead>\n",
       "  <tbody>\n",
       "    <tr>\n",
       "      <th>0</th>\n",
       "      <td>14222</td>\n",
       "      <td>Rental unit in Palermo/Buenos Aires · ★4.77 · ...</td>\n",
       "      <td>87710233</td>\n",
       "      <td>Palermo</td>\n",
       "      <td>-34.586170</td>\n",
       "      <td>-58.410360</td>\n",
       "      <td>Entire home/apt</td>\n",
       "      <td>32123.0</td>\n",
       "      <td>7</td>\n",
       "      <td>8</td>\n",
       "      <td>161</td>\n",
       "      <td>Palermo</td>\n",
       "      <td>t</td>\n",
       "      <td>2</td>\n",
       "      <td>1.0</td>\n",
       "      <td>1.0</td>\n",
       "      <td>1.0</td>\n",
       "      <td>114</td>\n",
       "      <td>4.77</td>\n",
       "      <td>4.89</td>\n",
       "      <td>4.87</td>\n",
       "      <td>45</td>\n",
       "      <td>Palermo</td>\n",
       "      <td>2917</td>\n",
       "    </tr>\n",
       "    <tr>\n",
       "      <th>1</th>\n",
       "      <td>15074</td>\n",
       "      <td>Rental unit in Buenos Aires · 1 bedroom · 1 be...</td>\n",
       "      <td>59338</td>\n",
       "      <td>Nuñez</td>\n",
       "      <td>-34.538920</td>\n",
       "      <td>-58.465990</td>\n",
       "      <td>Private room</td>\n",
       "      <td>24230.0</td>\n",
       "      <td>29</td>\n",
       "      <td>1</td>\n",
       "      <td>0</td>\n",
       "      <td>Nuñez</td>\n",
       "      <td>f</td>\n",
       "      <td>1</td>\n",
       "      <td>1.0</td>\n",
       "      <td>1.0</td>\n",
       "      <td>1.0</td>\n",
       "      <td>0</td>\n",
       "      <td>NaN</td>\n",
       "      <td>NaN</td>\n",
       "      <td>NaN</td>\n",
       "      <td>43</td>\n",
       "      <td>Nuñez</td>\n",
       "      <td>2643</td>\n",
       "    </tr>\n",
       "    <tr>\n",
       "      <th>2</th>\n",
       "      <td>20429</td>\n",
       "      <td>Rental unit in Buenos Aires · 1 bedroom · 1 be...</td>\n",
       "      <td>77065</td>\n",
       "      <td>Constitucion</td>\n",
       "      <td>-34.622600</td>\n",
       "      <td>-58.387040</td>\n",
       "      <td>Entire home/apt</td>\n",
       "      <td>28268.0</td>\n",
       "      <td>15</td>\n",
       "      <td>1</td>\n",
       "      <td>0</td>\n",
       "      <td>Constitucion</td>\n",
       "      <td>f</td>\n",
       "      <td>2</td>\n",
       "      <td>1.0</td>\n",
       "      <td>1.0</td>\n",
       "      <td>1.0</td>\n",
       "      <td>0</td>\n",
       "      <td>NaN</td>\n",
       "      <td>NaN</td>\n",
       "      <td>NaN</td>\n",
       "      <td>8</td>\n",
       "      <td>Constitucion</td>\n",
       "      <td>1650</td>\n",
       "    </tr>\n",
       "    <tr>\n",
       "      <th>3</th>\n",
       "      <td>24713</td>\n",
       "      <td>Rental unit in Buenos Aires · ★4.66 · 1 bedroo...</td>\n",
       "      <td>100743</td>\n",
       "      <td>San Nicolas</td>\n",
       "      <td>-34.602540</td>\n",
       "      <td>-58.378110</td>\n",
       "      <td>Entire home/apt</td>\n",
       "      <td>32242.0</td>\n",
       "      <td>1</td>\n",
       "      <td>8</td>\n",
       "      <td>78</td>\n",
       "      <td>San Nicolas</td>\n",
       "      <td>t</td>\n",
       "      <td>3</td>\n",
       "      <td>1.0</td>\n",
       "      <td>1.0</td>\n",
       "      <td>2.0</td>\n",
       "      <td>377</td>\n",
       "      <td>4.66</td>\n",
       "      <td>4.90</td>\n",
       "      <td>4.84</td>\n",
       "      <td>10</td>\n",
       "      <td>San Nicolas</td>\n",
       "      <td>1734</td>\n",
       "    </tr>\n",
       "    <tr>\n",
       "      <th>4</th>\n",
       "      <td>26258</td>\n",
       "      <td>Rental unit in Buenos Aires · 1 bedroom · 2 be...</td>\n",
       "      <td>111013</td>\n",
       "      <td>Almagro</td>\n",
       "      <td>-34.599970</td>\n",
       "      <td>-58.412380</td>\n",
       "      <td>Entire home/apt</td>\n",
       "      <td>20151.0</td>\n",
       "      <td>7</td>\n",
       "      <td>1</td>\n",
       "      <td>364</td>\n",
       "      <td>Almagro</td>\n",
       "      <td>f</td>\n",
       "      <td>2</td>\n",
       "      <td>1.0</td>\n",
       "      <td>1.0</td>\n",
       "      <td>2.0</td>\n",
       "      <td>2</td>\n",
       "      <td>3.50</td>\n",
       "      <td>5.00</td>\n",
       "      <td>5.00</td>\n",
       "      <td>25</td>\n",
       "      <td>Almagro</td>\n",
       "      <td>1974</td>\n",
       "    </tr>\n",
       "    <tr>\n",
       "      <th>...</th>\n",
       "      <td>...</td>\n",
       "      <td>...</td>\n",
       "      <td>...</td>\n",
       "      <td>...</td>\n",
       "      <td>...</td>\n",
       "      <td>...</td>\n",
       "      <td>...</td>\n",
       "      <td>...</td>\n",
       "      <td>...</td>\n",
       "      <td>...</td>\n",
       "      <td>...</td>\n",
       "      <td>...</td>\n",
       "      <td>...</td>\n",
       "      <td>...</td>\n",
       "      <td>...</td>\n",
       "      <td>...</td>\n",
       "      <td>...</td>\n",
       "      <td>...</td>\n",
       "      <td>...</td>\n",
       "      <td>...</td>\n",
       "      <td>...</td>\n",
       "      <td>...</td>\n",
       "      <td>...</td>\n",
       "      <td>...</td>\n",
       "    </tr>\n",
       "    <tr>\n",
       "      <th>20059</th>\n",
       "      <td>1054384310344899698</td>\n",
       "      <td>Rental unit in Buenos Aires · ★New · Studio · ...</td>\n",
       "      <td>254111419</td>\n",
       "      <td>Balvanera</td>\n",
       "      <td>-34.600971</td>\n",
       "      <td>-58.408723</td>\n",
       "      <td>Entire home/apt</td>\n",
       "      <td>12897.0</td>\n",
       "      <td>1</td>\n",
       "      <td>4</td>\n",
       "      <td>265</td>\n",
       "      <td>Balvanera</td>\n",
       "      <td>t</td>\n",
       "      <td>2</td>\n",
       "      <td>1.0</td>\n",
       "      <td>1.0</td>\n",
       "      <td>1.0</td>\n",
       "      <td>0</td>\n",
       "      <td>NaN</td>\n",
       "      <td>NaN</td>\n",
       "      <td>NaN</td>\n",
       "      <td>7</td>\n",
       "      <td>Balvanera</td>\n",
       "      <td>1628</td>\n",
       "    </tr>\n",
       "    <tr>\n",
       "      <th>20060</th>\n",
       "      <td>1054392542343527929</td>\n",
       "      <td>Rental unit in Buenos Aires · ★New · 1 bedroom...</td>\n",
       "      <td>1409800</td>\n",
       "      <td>Recoleta</td>\n",
       "      <td>-34.596400</td>\n",
       "      <td>-58.408710</td>\n",
       "      <td>Entire home/apt</td>\n",
       "      <td>37998.0</td>\n",
       "      <td>2</td>\n",
       "      <td>104</td>\n",
       "      <td>270</td>\n",
       "      <td>Recoleta</td>\n",
       "      <td>t</td>\n",
       "      <td>3</td>\n",
       "      <td>1.0</td>\n",
       "      <td>1.0</td>\n",
       "      <td>2.0</td>\n",
       "      <td>0</td>\n",
       "      <td>NaN</td>\n",
       "      <td>NaN</td>\n",
       "      <td>NaN</td>\n",
       "      <td>41</td>\n",
       "      <td>Recoleta</td>\n",
       "      <td>2510</td>\n",
       "    </tr>\n",
       "    <tr>\n",
       "      <th>20061</th>\n",
       "      <td>1054423956590467495</td>\n",
       "      <td>Rental unit in Buenos Aires · ★New · 1 bedroom...</td>\n",
       "      <td>112264250</td>\n",
       "      <td>Monserrat</td>\n",
       "      <td>-34.611055</td>\n",
       "      <td>-58.380419</td>\n",
       "      <td>Entire home/apt</td>\n",
       "      <td>18975.0</td>\n",
       "      <td>3</td>\n",
       "      <td>1</td>\n",
       "      <td>269</td>\n",
       "      <td>Monserrat</td>\n",
       "      <td>f</td>\n",
       "      <td>2</td>\n",
       "      <td>1.0</td>\n",
       "      <td>1.0</td>\n",
       "      <td>2.0</td>\n",
       "      <td>0</td>\n",
       "      <td>NaN</td>\n",
       "      <td>NaN</td>\n",
       "      <td>NaN</td>\n",
       "      <td>22</td>\n",
       "      <td>Monserrat</td>\n",
       "      <td>1942</td>\n",
       "    </tr>\n",
       "    <tr>\n",
       "      <th>20062</th>\n",
       "      <td>1054454529559701183</td>\n",
       "      <td>Rental unit in Buenos Aires · ★New · 1 bedroom...</td>\n",
       "      <td>552579433</td>\n",
       "      <td>San Nicolas</td>\n",
       "      <td>-34.600817</td>\n",
       "      <td>-58.378126</td>\n",
       "      <td>Entire home/apt</td>\n",
       "      <td>24182.0</td>\n",
       "      <td>3</td>\n",
       "      <td>1</td>\n",
       "      <td>87</td>\n",
       "      <td>San Nicolas</td>\n",
       "      <td>f</td>\n",
       "      <td>2</td>\n",
       "      <td>1.0</td>\n",
       "      <td>1.0</td>\n",
       "      <td>1.0</td>\n",
       "      <td>0</td>\n",
       "      <td>NaN</td>\n",
       "      <td>NaN</td>\n",
       "      <td>NaN</td>\n",
       "      <td>10</td>\n",
       "      <td>San Nicolas</td>\n",
       "      <td>1734</td>\n",
       "    </tr>\n",
       "    <tr>\n",
       "      <th>20063</th>\n",
       "      <td>1054474254373168834</td>\n",
       "      <td>Rental unit in Buenos Aires · ★New · 1 bedroom...</td>\n",
       "      <td>522972122</td>\n",
       "      <td>Balvanera</td>\n",
       "      <td>-34.599003</td>\n",
       "      <td>-58.411980</td>\n",
       "      <td>Entire home/apt</td>\n",
       "      <td>22570.0</td>\n",
       "      <td>1</td>\n",
       "      <td>2</td>\n",
       "      <td>264</td>\n",
       "      <td>Balvanera</td>\n",
       "      <td>f</td>\n",
       "      <td>3</td>\n",
       "      <td>1.0</td>\n",
       "      <td>1.0</td>\n",
       "      <td>1.0</td>\n",
       "      <td>0</td>\n",
       "      <td>NaN</td>\n",
       "      <td>NaN</td>\n",
       "      <td>NaN</td>\n",
       "      <td>7</td>\n",
       "      <td>Balvanera</td>\n",
       "      <td>1628</td>\n",
       "    </tr>\n",
       "  </tbody>\n",
       "</table>\n",
       "<p>20064 rows × 24 columns</p>\n",
       "</div>"
      ],
      "text/plain": [
       "                        id                                               name  \\\n",
       "0                    14222  Rental unit in Palermo/Buenos Aires · ★4.77 · ...   \n",
       "1                    15074  Rental unit in Buenos Aires · 1 bedroom · 1 be...   \n",
       "2                    20429  Rental unit in Buenos Aires · 1 bedroom · 1 be...   \n",
       "3                    24713  Rental unit in Buenos Aires · ★4.66 · 1 bedroo...   \n",
       "4                    26258  Rental unit in Buenos Aires · 1 bedroom · 2 be...   \n",
       "...                    ...                                                ...   \n",
       "20059  1054384310344899698  Rental unit in Buenos Aires · ★New · Studio · ...   \n",
       "20060  1054392542343527929  Rental unit in Buenos Aires · ★New · 1 bedroom...   \n",
       "20061  1054423956590467495  Rental unit in Buenos Aires · ★New · 1 bedroom...   \n",
       "20062  1054454529559701183  Rental unit in Buenos Aires · ★New · 1 bedroom...   \n",
       "20063  1054474254373168834  Rental unit in Buenos Aires · ★New · 1 bedroom...   \n",
       "\n",
       "         host_id neighbourhood   latitude  longitude        room_type  \\\n",
       "0       87710233       Palermo -34.586170 -58.410360  Entire home/apt   \n",
       "1          59338         Nuñez -34.538920 -58.465990     Private room   \n",
       "2          77065  Constitucion -34.622600 -58.387040  Entire home/apt   \n",
       "3         100743   San Nicolas -34.602540 -58.378110  Entire home/apt   \n",
       "4         111013       Almagro -34.599970 -58.412380  Entire home/apt   \n",
       "...          ...           ...        ...        ...              ...   \n",
       "20059  254111419     Balvanera -34.600971 -58.408723  Entire home/apt   \n",
       "20060    1409800      Recoleta -34.596400 -58.408710  Entire home/apt   \n",
       "20061  112264250     Monserrat -34.611055 -58.380419  Entire home/apt   \n",
       "20062  552579433   San Nicolas -34.600817 -58.378126  Entire home/apt   \n",
       "20063  522972122     Balvanera -34.599003 -58.411980  Entire home/apt   \n",
       "\n",
       "         price  minimum_nights  calculated_host_listings_count  \\\n",
       "0      32123.0               7                               8   \n",
       "1      24230.0              29                               1   \n",
       "2      28268.0              15                               1   \n",
       "3      32242.0               1                               8   \n",
       "4      20151.0               7                               1   \n",
       "...        ...             ...                             ...   \n",
       "20059  12897.0               1                               4   \n",
       "20060  37998.0               2                             104   \n",
       "20061  18975.0               3                               1   \n",
       "20062  24182.0               3                               1   \n",
       "20063  22570.0               1                               2   \n",
       "\n",
       "       availability_365 neighbourhood_cleansed host_is_superhost  \\\n",
       "0                   161                Palermo                 t   \n",
       "1                     0                  Nuñez                 f   \n",
       "2                     0           Constitucion                 f   \n",
       "3                    78            San Nicolas                 t   \n",
       "4                   364                Almagro                 f   \n",
       "...                 ...                    ...               ...   \n",
       "20059               265              Balvanera                 t   \n",
       "20060               270               Recoleta                 t   \n",
       "20061               269              Monserrat                 f   \n",
       "20062                87            San Nicolas                 f   \n",
       "20063               264              Balvanera                 f   \n",
       "\n",
       "       accommodates  bathrooms  bedrooms  beds  number_of_reviews  \\\n",
       "0                 2        1.0       1.0   1.0                114   \n",
       "1                 1        1.0       1.0   1.0                  0   \n",
       "2                 2        1.0       1.0   1.0                  0   \n",
       "3                 3        1.0       1.0   2.0                377   \n",
       "4                 2        1.0       1.0   2.0                  2   \n",
       "...             ...        ...       ...   ...                ...   \n",
       "20059             2        1.0       1.0   1.0                  0   \n",
       "20060             3        1.0       1.0   2.0                  0   \n",
       "20061             2        1.0       1.0   2.0                  0   \n",
       "20062             2        1.0       1.0   1.0                  0   \n",
       "20063             3        1.0       1.0   1.0                  0   \n",
       "\n",
       "       review_scores_rating  review_scores_communication  \\\n",
       "0                      4.77                         4.89   \n",
       "1                       NaN                          NaN   \n",
       "2                       NaN                          NaN   \n",
       "3                      4.66                         4.90   \n",
       "4                      3.50                         5.00   \n",
       "...                     ...                          ...   \n",
       "20059                   NaN                          NaN   \n",
       "20060                   NaN                          NaN   \n",
       "20061                   NaN                          NaN   \n",
       "20062                   NaN                          NaN   \n",
       "20063                   NaN                          NaN   \n",
       "\n",
       "       review_scores_location  index        barrio  precio_m2  \n",
       "0                        4.87     45       Palermo       2917  \n",
       "1                         NaN     43         Nuñez       2643  \n",
       "2                         NaN      8  Constitucion       1650  \n",
       "3                        4.84     10   San Nicolas       1734  \n",
       "4                        5.00     25       Almagro       1974  \n",
       "...                       ...    ...           ...        ...  \n",
       "20059                     NaN      7     Balvanera       1628  \n",
       "20060                     NaN     41      Recoleta       2510  \n",
       "20061                     NaN     22     Monserrat       1942  \n",
       "20062                     NaN     10   San Nicolas       1734  \n",
       "20063                     NaN      7     Balvanera       1628  \n",
       "\n",
       "[20064 rows x 24 columns]"
      ]
     },
     "execution_count": 5,
     "metadata": {},
     "output_type": "execute_result"
    }
   ],
   "source": [
    "df"
   ]
  },
  {
   "cell_type": "markdown",
   "id": "f0a6379a",
   "metadata": {},
   "source": [
    "## PREPARACION DE LAS VARIABLES"
   ]
  },
  {
   "cell_type": "markdown",
   "id": "b42c21c6",
   "metadata": {},
   "source": [
    "###  Creacion de kpis de palancas"
   ]
  },
  {
   "cell_type": "markdown",
   "id": "d71dd0ac",
   "metadata": {},
   "source": [
    "Primero vamos a crear las variables de análisis, es decir las que habíamos identificado como los Kpis que usaremos en las palancas que influyen sobre el negocio.\n",
    "\n",
    "Habíamos dicho que eran 3:\n",
    "\n",
    "* precio por noche: esta ya la tenemos directamente en la variable price, pero vamos a revisarla para ver que la entendemos bien.\n",
    "* ocupación: tenemos availability_365 pero hay que transformarla.\n",
    "* precio del inmueble: esta tendremos que crearla con variables externas así que la dejamos para después."
   ]
  },
  {
   "cell_type": "markdown",
   "id": "6215bd1f",
   "metadata": {},
   "source": [
    "**Empezamos con el precio.**\n",
    "\n",
    "La documentación no aclara si el precio es por todo el inmueble, o si en el caso de que se alquile una habitación es por habitación.\n",
    "\n",
    "Es un dato clave para poder hacer la valoración de los potenciales ingresos de un inmueble.\n",
    "\n",
    "Vamos a intentar entenderlo analizando el precio medio por tipo de alquiler.\n",
    "\n",
    "Es importante filtrar por solo un distrito para no incluir el efecto \"zona\".\n",
    "\n",
    "Así que primero elegimos un distrito que tenga muchos datos."
   ]
  },
  {
   "cell_type": "code",
   "execution_count": 6,
   "id": "b306021d",
   "metadata": {},
   "outputs": [
    {
     "data": {
      "text/plain": [
       "neighbourhood\n",
       "Palermo              5557\n",
       "Recoleta             2800\n",
       "San Nicolas          1384\n",
       "Belgrano             1124\n",
       "Monserrat            1072\n",
       "Retiro                947\n",
       "Almagro               914\n",
       "Balvanera             864\n",
       "Villa Crespo          795\n",
       "San Telmo             568\n",
       "Caballito             507\n",
       "Nuñez                 473\n",
       "Colegiales            423\n",
       "Chacarita             388\n",
       "Villa Urquiza         320\n",
       "Constitucion          317\n",
       "Saavedra              170\n",
       "San Cristobal         153\n",
       "Barracas              128\n",
       "Flores                119\n",
       "Coghlan                99\n",
       "Villa Ortuzar          97\n",
       "Villa Del Parque       89\n",
       "Boca                   78\n",
       "Boedo                  78\n",
       "Villa Devoto           71\n",
       "Parque Chas            63\n",
       "Parque Patricios       59\n",
       "Parque Chacabuco       59\n",
       "Villa Pueyrredon       54\n",
       "Paternal               43\n",
       "Agronomia              36\n",
       "Floresta               35\n",
       "Villa Santa Rita       32\n",
       "Villa Gral. Mitre      29\n",
       "Mataderos              20\n",
       "Villa Luro             18\n",
       "Velez Sarsfield        16\n",
       "Liniers                14\n",
       "Puerto Madero          13\n",
       "Monte Castro           10\n",
       "Nueva Pompeya           7\n",
       "Parque Avellaneda       6\n",
       "Versalles               5\n",
       "Villa Lugano            5\n",
       "Villa Real              4\n",
       "Villa Riachuelo         1\n",
       "Name: count, dtype: int64"
      ]
     },
     "execution_count": 6,
     "metadata": {},
     "output_type": "execute_result"
    }
   ],
   "source": [
    "df.neighbourhood.value_counts()"
   ]
  },
  {
   "cell_type": "code",
   "execution_count": 7,
   "id": "1416a54d",
   "metadata": {
    "scrolled": true
   },
   "outputs": [
    {
     "data": {
      "text/plain": [
       "room_type\n",
       "Entire home/apt    29022.165662\n",
       "Private room       18587.325700\n",
       "Shared room        18494.619048\n",
       "Name: price, dtype: float64"
      ]
     },
     "execution_count": 7,
     "metadata": {},
     "output_type": "execute_result"
    }
   ],
   "source": [
    "df.loc[df.neighbourhood == 'Palermo',:].groupby('room_type').price.mean()"
   ]
  },
  {
   "cell_type": "markdown",
   "id": "586aed50",
   "metadata": {},
   "source": [
    "Conclusión:\n",
    "\n",
    "* alquilar el apartamento tiene un precio medio de 29.000 pesos\n",
    "* alquilar una habitación tiene un precio medio de 18600 o 18500 pesos según sea compartida o privada\n",
    "* por tanto para calcular los \"ingresos\" de un inmueble sí deberemos multiplicar el precio el precio por el número de habitaciones cuando sea de los tipos Private room o Shared room"
   ]
  },
  {
   "cell_type": "markdown",
   "id": "acae6c3e",
   "metadata": {},
   "source": [
    "Ahora bien, multiplicar el precio por el total de habitaciones puede sesgar artificialmente al alza la capacidad de generar ingresos de un inmueble.\n",
    "\n",
    "Ya que si se alquila por habitaciones no es probable que siempre esté al 100%\n",
    "\n",
    "Por tanto deberíamos ponderarlo por el porcentaje medio de habitaciones alquiladas.\n",
    "\n",
    "No tenemos ese dato, pero supongamos que es del 70%. (Esto es lo que se conoce como el factor de ajuste, el cual es muy arbitrario y depende del conocimiento del negocio).\n",
    "\n",
    "Podemos crear la variable precio total aplicando apply sobre una función personalizada."
   ]
  },
  {
   "cell_type": "code",
   "execution_count": 8,
   "id": "67e75038",
   "metadata": {},
   "outputs": [],
   "source": [
    "def crear_precio_total(registro):\n",
    "    if (registro.beds > 1) & ((registro.room_type == 'Private room') | (registro.room_type == 'Shared room')):\n",
    "        salida = registro.price * registro.beds * 0.7\n",
    "    else:\n",
    "        salida = registro.price\n",
    "    return(salida)\n",
    "\n",
    "df['precio_total'] = df.apply(crear_precio_total, axis = 1)"
   ]
  },
  {
   "cell_type": "markdown",
   "id": "deda9f3a",
   "metadata": {},
   "source": [
    "Comprobamos"
   ]
  },
  {
   "cell_type": "code",
   "execution_count": 9,
   "id": "5fcf7b1f",
   "metadata": {
    "scrolled": false
   },
   "outputs": [
    {
     "data": {
      "text/html": [
       "<div>\n",
       "<style scoped>\n",
       "    .dataframe tbody tr th:only-of-type {\n",
       "        vertical-align: middle;\n",
       "    }\n",
       "\n",
       "    .dataframe tbody tr th {\n",
       "        vertical-align: top;\n",
       "    }\n",
       "\n",
       "    .dataframe thead th {\n",
       "        text-align: right;\n",
       "    }\n",
       "</style>\n",
       "<table border=\"1\" class=\"dataframe\">\n",
       "  <thead>\n",
       "    <tr style=\"text-align: right;\">\n",
       "      <th></th>\n",
       "      <th>room_type</th>\n",
       "      <th>price</th>\n",
       "      <th>beds</th>\n",
       "      <th>precio_total</th>\n",
       "    </tr>\n",
       "  </thead>\n",
       "  <tbody>\n",
       "    <tr>\n",
       "      <th>0</th>\n",
       "      <td>Entire home/apt</td>\n",
       "      <td>32123.0</td>\n",
       "      <td>1.0</td>\n",
       "      <td>32123.0</td>\n",
       "    </tr>\n",
       "    <tr>\n",
       "      <th>1</th>\n",
       "      <td>Private room</td>\n",
       "      <td>24230.0</td>\n",
       "      <td>1.0</td>\n",
       "      <td>24230.0</td>\n",
       "    </tr>\n",
       "    <tr>\n",
       "      <th>2</th>\n",
       "      <td>Entire home/apt</td>\n",
       "      <td>28268.0</td>\n",
       "      <td>1.0</td>\n",
       "      <td>28268.0</td>\n",
       "    </tr>\n",
       "    <tr>\n",
       "      <th>3</th>\n",
       "      <td>Entire home/apt</td>\n",
       "      <td>32242.0</td>\n",
       "      <td>2.0</td>\n",
       "      <td>32242.0</td>\n",
       "    </tr>\n",
       "    <tr>\n",
       "      <th>4</th>\n",
       "      <td>Entire home/apt</td>\n",
       "      <td>20151.0</td>\n",
       "      <td>2.0</td>\n",
       "      <td>20151.0</td>\n",
       "    </tr>\n",
       "    <tr>\n",
       "      <th>5</th>\n",
       "      <td>Entire home/apt</td>\n",
       "      <td>29937.0</td>\n",
       "      <td>3.0</td>\n",
       "      <td>29937.0</td>\n",
       "    </tr>\n",
       "    <tr>\n",
       "      <th>6</th>\n",
       "      <td>Entire home/apt</td>\n",
       "      <td>31436.0</td>\n",
       "      <td>2.0</td>\n",
       "      <td>31436.0</td>\n",
       "    </tr>\n",
       "    <tr>\n",
       "      <th>7</th>\n",
       "      <td>Entire home/apt</td>\n",
       "      <td>20151.0</td>\n",
       "      <td>1.0</td>\n",
       "      <td>20151.0</td>\n",
       "    </tr>\n",
       "    <tr>\n",
       "      <th>8</th>\n",
       "      <td>Entire home/apt</td>\n",
       "      <td>36345.0</td>\n",
       "      <td>1.0</td>\n",
       "      <td>36345.0</td>\n",
       "    </tr>\n",
       "    <tr>\n",
       "      <th>9</th>\n",
       "      <td>Entire home/apt</td>\n",
       "      <td>20151.0</td>\n",
       "      <td>1.0</td>\n",
       "      <td>20151.0</td>\n",
       "    </tr>\n",
       "    <tr>\n",
       "      <th>10</th>\n",
       "      <td>Entire home/apt</td>\n",
       "      <td>36155.0</td>\n",
       "      <td>3.0</td>\n",
       "      <td>36155.0</td>\n",
       "    </tr>\n",
       "    <tr>\n",
       "      <th>11</th>\n",
       "      <td>Entire home/apt</td>\n",
       "      <td>25710.0</td>\n",
       "      <td>1.0</td>\n",
       "      <td>25710.0</td>\n",
       "    </tr>\n",
       "    <tr>\n",
       "      <th>12</th>\n",
       "      <td>Entire home/apt</td>\n",
       "      <td>29727.0</td>\n",
       "      <td>1.0</td>\n",
       "      <td>29727.0</td>\n",
       "    </tr>\n",
       "    <tr>\n",
       "      <th>13</th>\n",
       "      <td>Entire home/apt</td>\n",
       "      <td>33621.0</td>\n",
       "      <td>3.0</td>\n",
       "      <td>33621.0</td>\n",
       "    </tr>\n",
       "    <tr>\n",
       "      <th>14</th>\n",
       "      <td>Entire home/apt</td>\n",
       "      <td>28120.0</td>\n",
       "      <td>2.0</td>\n",
       "      <td>28120.0</td>\n",
       "    </tr>\n",
       "    <tr>\n",
       "      <th>15</th>\n",
       "      <td>Entire home/apt</td>\n",
       "      <td>25794.0</td>\n",
       "      <td>1.0</td>\n",
       "      <td>25794.0</td>\n",
       "    </tr>\n",
       "    <tr>\n",
       "      <th>16</th>\n",
       "      <td>Entire home/apt</td>\n",
       "      <td>24415.0</td>\n",
       "      <td>1.0</td>\n",
       "      <td>24415.0</td>\n",
       "    </tr>\n",
       "    <tr>\n",
       "      <th>17</th>\n",
       "      <td>Entire home/apt</td>\n",
       "      <td>29711.0</td>\n",
       "      <td>2.0</td>\n",
       "      <td>29711.0</td>\n",
       "    </tr>\n",
       "    <tr>\n",
       "      <th>18</th>\n",
       "      <td>Entire home/apt</td>\n",
       "      <td>31549.0</td>\n",
       "      <td>2.0</td>\n",
       "      <td>31549.0</td>\n",
       "    </tr>\n",
       "    <tr>\n",
       "      <th>19</th>\n",
       "      <td>Entire home/apt</td>\n",
       "      <td>29824.0</td>\n",
       "      <td>1.0</td>\n",
       "      <td>29824.0</td>\n",
       "    </tr>\n",
       "    <tr>\n",
       "      <th>20</th>\n",
       "      <td>Entire home/apt</td>\n",
       "      <td>32307.0</td>\n",
       "      <td>1.0</td>\n",
       "      <td>32307.0</td>\n",
       "    </tr>\n",
       "    <tr>\n",
       "      <th>21</th>\n",
       "      <td>Entire home/apt</td>\n",
       "      <td>32242.0</td>\n",
       "      <td>2.0</td>\n",
       "      <td>32242.0</td>\n",
       "    </tr>\n",
       "    <tr>\n",
       "      <th>22</th>\n",
       "      <td>Entire home/apt</td>\n",
       "      <td>32242.0</td>\n",
       "      <td>2.0</td>\n",
       "      <td>32242.0</td>\n",
       "    </tr>\n",
       "    <tr>\n",
       "      <th>23</th>\n",
       "      <td>Entire home/apt</td>\n",
       "      <td>30630.0</td>\n",
       "      <td>1.0</td>\n",
       "      <td>30630.0</td>\n",
       "    </tr>\n",
       "    <tr>\n",
       "      <th>24</th>\n",
       "      <td>Entire home/apt</td>\n",
       "      <td>28808.0</td>\n",
       "      <td>2.0</td>\n",
       "      <td>28808.0</td>\n",
       "    </tr>\n",
       "    <tr>\n",
       "      <th>25</th>\n",
       "      <td>Entire home/apt</td>\n",
       "      <td>37500.0</td>\n",
       "      <td>1.0</td>\n",
       "      <td>37500.0</td>\n",
       "    </tr>\n",
       "    <tr>\n",
       "      <th>26</th>\n",
       "      <td>Entire home/apt</td>\n",
       "      <td>21006.0</td>\n",
       "      <td>1.0</td>\n",
       "      <td>21006.0</td>\n",
       "    </tr>\n",
       "    <tr>\n",
       "      <th>27</th>\n",
       "      <td>Entire home/apt</td>\n",
       "      <td>22803.0</td>\n",
       "      <td>3.0</td>\n",
       "      <td>22803.0</td>\n",
       "    </tr>\n",
       "    <tr>\n",
       "      <th>28</th>\n",
       "      <td>Entire home/apt</td>\n",
       "      <td>21440.0</td>\n",
       "      <td>1.0</td>\n",
       "      <td>21440.0</td>\n",
       "    </tr>\n",
       "    <tr>\n",
       "      <th>29</th>\n",
       "      <td>Entire home/apt</td>\n",
       "      <td>20253.0</td>\n",
       "      <td>1.0</td>\n",
       "      <td>20253.0</td>\n",
       "    </tr>\n",
       "    <tr>\n",
       "      <th>30</th>\n",
       "      <td>Entire home/apt</td>\n",
       "      <td>20377.0</td>\n",
       "      <td>1.0</td>\n",
       "      <td>20377.0</td>\n",
       "    </tr>\n",
       "    <tr>\n",
       "      <th>31</th>\n",
       "      <td>Private room</td>\n",
       "      <td>12115.0</td>\n",
       "      <td>1.0</td>\n",
       "      <td>12115.0</td>\n",
       "    </tr>\n",
       "    <tr>\n",
       "      <th>32</th>\n",
       "      <td>Entire home/apt</td>\n",
       "      <td>23035.0</td>\n",
       "      <td>1.0</td>\n",
       "      <td>23035.0</td>\n",
       "    </tr>\n",
       "    <tr>\n",
       "      <th>33</th>\n",
       "      <td>Private room</td>\n",
       "      <td>19345.0</td>\n",
       "      <td>2.0</td>\n",
       "      <td>27083.0</td>\n",
       "    </tr>\n",
       "    <tr>\n",
       "      <th>34</th>\n",
       "      <td>Entire home/apt</td>\n",
       "      <td>14509.0</td>\n",
       "      <td>4.0</td>\n",
       "      <td>14509.0</td>\n",
       "    </tr>\n",
       "    <tr>\n",
       "      <th>35</th>\n",
       "      <td>Entire home/apt</td>\n",
       "      <td>35693.0</td>\n",
       "      <td>5.0</td>\n",
       "      <td>35693.0</td>\n",
       "    </tr>\n",
       "    <tr>\n",
       "      <th>36</th>\n",
       "      <td>Entire home/apt</td>\n",
       "      <td>30692.0</td>\n",
       "      <td>1.0</td>\n",
       "      <td>30692.0</td>\n",
       "    </tr>\n",
       "    <tr>\n",
       "      <th>37</th>\n",
       "      <td>Entire home/apt</td>\n",
       "      <td>38655.0</td>\n",
       "      <td>2.0</td>\n",
       "      <td>38655.0</td>\n",
       "    </tr>\n",
       "    <tr>\n",
       "      <th>38</th>\n",
       "      <td>Entire home/apt</td>\n",
       "      <td>32194.0</td>\n",
       "      <td>1.0</td>\n",
       "      <td>32194.0</td>\n",
       "    </tr>\n",
       "    <tr>\n",
       "      <th>39</th>\n",
       "      <td>Entire home/apt</td>\n",
       "      <td>36273.0</td>\n",
       "      <td>2.0</td>\n",
       "      <td>36273.0</td>\n",
       "    </tr>\n",
       "    <tr>\n",
       "      <th>40</th>\n",
       "      <td>Entire home/apt</td>\n",
       "      <td>28120.0</td>\n",
       "      <td>1.0</td>\n",
       "      <td>28120.0</td>\n",
       "    </tr>\n",
       "    <tr>\n",
       "      <th>41</th>\n",
       "      <td>Entire home/apt</td>\n",
       "      <td>39731.0</td>\n",
       "      <td>1.0</td>\n",
       "      <td>39731.0</td>\n",
       "    </tr>\n",
       "    <tr>\n",
       "      <th>42</th>\n",
       "      <td>Entire home/apt</td>\n",
       "      <td>20377.0</td>\n",
       "      <td>1.0</td>\n",
       "      <td>20377.0</td>\n",
       "    </tr>\n",
       "    <tr>\n",
       "      <th>43</th>\n",
       "      <td>Entire home/apt</td>\n",
       "      <td>34528.0</td>\n",
       "      <td>2.0</td>\n",
       "      <td>34528.0</td>\n",
       "    </tr>\n",
       "    <tr>\n",
       "      <th>44</th>\n",
       "      <td>Entire home/apt</td>\n",
       "      <td>18479.0</td>\n",
       "      <td>1.0</td>\n",
       "      <td>18479.0</td>\n",
       "    </tr>\n",
       "    <tr>\n",
       "      <th>45</th>\n",
       "      <td>Entire home/apt</td>\n",
       "      <td>18479.0</td>\n",
       "      <td>1.0</td>\n",
       "      <td>18479.0</td>\n",
       "    </tr>\n",
       "    <tr>\n",
       "      <th>46</th>\n",
       "      <td>Entire home/apt</td>\n",
       "      <td>23035.0</td>\n",
       "      <td>1.0</td>\n",
       "      <td>23035.0</td>\n",
       "    </tr>\n",
       "    <tr>\n",
       "      <th>47</th>\n",
       "      <td>Entire home/apt</td>\n",
       "      <td>36111.0</td>\n",
       "      <td>1.0</td>\n",
       "      <td>36111.0</td>\n",
       "    </tr>\n",
       "    <tr>\n",
       "      <th>48</th>\n",
       "      <td>Private room</td>\n",
       "      <td>24103.0</td>\n",
       "      <td>1.0</td>\n",
       "      <td>24103.0</td>\n",
       "    </tr>\n",
       "    <tr>\n",
       "      <th>49</th>\n",
       "      <td>Entire home/apt</td>\n",
       "      <td>22149.0</td>\n",
       "      <td>1.0</td>\n",
       "      <td>22149.0</td>\n",
       "    </tr>\n",
       "    <tr>\n",
       "      <th>50</th>\n",
       "      <td>Entire home/apt</td>\n",
       "      <td>14538.0</td>\n",
       "      <td>2.0</td>\n",
       "      <td>14538.0</td>\n",
       "    </tr>\n",
       "    <tr>\n",
       "      <th>51</th>\n",
       "      <td>Entire home/apt</td>\n",
       "      <td>32563.0</td>\n",
       "      <td>1.0</td>\n",
       "      <td>32563.0</td>\n",
       "    </tr>\n",
       "    <tr>\n",
       "      <th>52</th>\n",
       "      <td>Entire home/apt</td>\n",
       "      <td>23038.0</td>\n",
       "      <td>1.0</td>\n",
       "      <td>23038.0</td>\n",
       "    </tr>\n",
       "    <tr>\n",
       "      <th>53</th>\n",
       "      <td>Entire home/apt</td>\n",
       "      <td>35329.0</td>\n",
       "      <td>1.0</td>\n",
       "      <td>35329.0</td>\n",
       "    </tr>\n",
       "    <tr>\n",
       "      <th>54</th>\n",
       "      <td>Entire home/apt</td>\n",
       "      <td>29076.0</td>\n",
       "      <td>2.0</td>\n",
       "      <td>29076.0</td>\n",
       "    </tr>\n",
       "    <tr>\n",
       "      <th>55</th>\n",
       "      <td>Entire home/apt</td>\n",
       "      <td>29937.0</td>\n",
       "      <td>2.0</td>\n",
       "      <td>29937.0</td>\n",
       "    </tr>\n",
       "    <tr>\n",
       "      <th>56</th>\n",
       "      <td>Entire home/apt</td>\n",
       "      <td>25700.0</td>\n",
       "      <td>1.0</td>\n",
       "      <td>25700.0</td>\n",
       "    </tr>\n",
       "    <tr>\n",
       "      <th>57</th>\n",
       "      <td>Entire home/apt</td>\n",
       "      <td>31436.0</td>\n",
       "      <td>2.0</td>\n",
       "      <td>31436.0</td>\n",
       "    </tr>\n",
       "    <tr>\n",
       "      <th>58</th>\n",
       "      <td>Entire home/apt</td>\n",
       "      <td>22615.0</td>\n",
       "      <td>1.0</td>\n",
       "      <td>22615.0</td>\n",
       "    </tr>\n",
       "    <tr>\n",
       "      <th>59</th>\n",
       "      <td>Entire home/apt</td>\n",
       "      <td>20264.0</td>\n",
       "      <td>1.0</td>\n",
       "      <td>20264.0</td>\n",
       "    </tr>\n",
       "  </tbody>\n",
       "</table>\n",
       "</div>"
      ],
      "text/plain": [
       "          room_type    price  beds  precio_total\n",
       "0   Entire home/apt  32123.0   1.0       32123.0\n",
       "1      Private room  24230.0   1.0       24230.0\n",
       "2   Entire home/apt  28268.0   1.0       28268.0\n",
       "3   Entire home/apt  32242.0   2.0       32242.0\n",
       "4   Entire home/apt  20151.0   2.0       20151.0\n",
       "5   Entire home/apt  29937.0   3.0       29937.0\n",
       "6   Entire home/apt  31436.0   2.0       31436.0\n",
       "7   Entire home/apt  20151.0   1.0       20151.0\n",
       "8   Entire home/apt  36345.0   1.0       36345.0\n",
       "9   Entire home/apt  20151.0   1.0       20151.0\n",
       "10  Entire home/apt  36155.0   3.0       36155.0\n",
       "11  Entire home/apt  25710.0   1.0       25710.0\n",
       "12  Entire home/apt  29727.0   1.0       29727.0\n",
       "13  Entire home/apt  33621.0   3.0       33621.0\n",
       "14  Entire home/apt  28120.0   2.0       28120.0\n",
       "15  Entire home/apt  25794.0   1.0       25794.0\n",
       "16  Entire home/apt  24415.0   1.0       24415.0\n",
       "17  Entire home/apt  29711.0   2.0       29711.0\n",
       "18  Entire home/apt  31549.0   2.0       31549.0\n",
       "19  Entire home/apt  29824.0   1.0       29824.0\n",
       "20  Entire home/apt  32307.0   1.0       32307.0\n",
       "21  Entire home/apt  32242.0   2.0       32242.0\n",
       "22  Entire home/apt  32242.0   2.0       32242.0\n",
       "23  Entire home/apt  30630.0   1.0       30630.0\n",
       "24  Entire home/apt  28808.0   2.0       28808.0\n",
       "25  Entire home/apt  37500.0   1.0       37500.0\n",
       "26  Entire home/apt  21006.0   1.0       21006.0\n",
       "27  Entire home/apt  22803.0   3.0       22803.0\n",
       "28  Entire home/apt  21440.0   1.0       21440.0\n",
       "29  Entire home/apt  20253.0   1.0       20253.0\n",
       "30  Entire home/apt  20377.0   1.0       20377.0\n",
       "31     Private room  12115.0   1.0       12115.0\n",
       "32  Entire home/apt  23035.0   1.0       23035.0\n",
       "33     Private room  19345.0   2.0       27083.0\n",
       "34  Entire home/apt  14509.0   4.0       14509.0\n",
       "35  Entire home/apt  35693.0   5.0       35693.0\n",
       "36  Entire home/apt  30692.0   1.0       30692.0\n",
       "37  Entire home/apt  38655.0   2.0       38655.0\n",
       "38  Entire home/apt  32194.0   1.0       32194.0\n",
       "39  Entire home/apt  36273.0   2.0       36273.0\n",
       "40  Entire home/apt  28120.0   1.0       28120.0\n",
       "41  Entire home/apt  39731.0   1.0       39731.0\n",
       "42  Entire home/apt  20377.0   1.0       20377.0\n",
       "43  Entire home/apt  34528.0   2.0       34528.0\n",
       "44  Entire home/apt  18479.0   1.0       18479.0\n",
       "45  Entire home/apt  18479.0   1.0       18479.0\n",
       "46  Entire home/apt  23035.0   1.0       23035.0\n",
       "47  Entire home/apt  36111.0   1.0       36111.0\n",
       "48     Private room  24103.0   1.0       24103.0\n",
       "49  Entire home/apt  22149.0   1.0       22149.0\n",
       "50  Entire home/apt  14538.0   2.0       14538.0\n",
       "51  Entire home/apt  32563.0   1.0       32563.0\n",
       "52  Entire home/apt  23038.0   1.0       23038.0\n",
       "53  Entire home/apt  35329.0   1.0       35329.0\n",
       "54  Entire home/apt  29076.0   2.0       29076.0\n",
       "55  Entire home/apt  29937.0   2.0       29937.0\n",
       "56  Entire home/apt  25700.0   1.0       25700.0\n",
       "57  Entire home/apt  31436.0   2.0       31436.0\n",
       "58  Entire home/apt  22615.0   1.0       22615.0\n",
       "59  Entire home/apt  20264.0   1.0       20264.0"
      ]
     },
     "execution_count": 9,
     "metadata": {},
     "output_type": "execute_result"
    }
   ],
   "source": [
    "df[['room_type', 'price', 'beds', 'precio_total']].head(60)"
   ]
  },
  {
   "cell_type": "markdown",
   "id": "2ba505cb",
   "metadata": {},
   "source": [
    "**Ahora vamos con la ocupación.**\n",
    "\n",
    "La variable que tenemos que nos permite medir esto es availability_365.\n",
    "\n",
    "Esta variable nos dice el número de días a un año vista que el inmueble NO está ocupado.\n",
    "\n",
    "Por tanto nos interesaría transformarla a una medida más directa de ocupación, por ejemplo el % del año que SI está ocupada.\n",
    "\n",
    "Podemos hacerlo con una tranformación directa."
   ]
  },
  {
   "cell_type": "code",
   "execution_count": 10,
   "id": "da18f1af",
   "metadata": {},
   "outputs": [],
   "source": [
    "df['ocupacion'] = (((365 - df.availability_365) / 365) * 100).astype('int64')"
   ]
  },
  {
   "cell_type": "markdown",
   "id": "01516e4d",
   "metadata": {},
   "source": [
    "Comprobamos"
   ]
  },
  {
   "cell_type": "code",
   "execution_count": 11,
   "id": "5d64caf7",
   "metadata": {
    "scrolled": false
   },
   "outputs": [
    {
     "data": {
      "text/html": [
       "<div>\n",
       "<style scoped>\n",
       "    .dataframe tbody tr th:only-of-type {\n",
       "        vertical-align: middle;\n",
       "    }\n",
       "\n",
       "    .dataframe tbody tr th {\n",
       "        vertical-align: top;\n",
       "    }\n",
       "\n",
       "    .dataframe thead th {\n",
       "        text-align: right;\n",
       "    }\n",
       "</style>\n",
       "<table border=\"1\" class=\"dataframe\">\n",
       "  <thead>\n",
       "    <tr style=\"text-align: right;\">\n",
       "      <th></th>\n",
       "      <th>availability_365</th>\n",
       "      <th>ocupacion</th>\n",
       "    </tr>\n",
       "  </thead>\n",
       "  <tbody>\n",
       "    <tr>\n",
       "      <th>0</th>\n",
       "      <td>161</td>\n",
       "      <td>55</td>\n",
       "    </tr>\n",
       "    <tr>\n",
       "      <th>1</th>\n",
       "      <td>0</td>\n",
       "      <td>100</td>\n",
       "    </tr>\n",
       "    <tr>\n",
       "      <th>2</th>\n",
       "      <td>0</td>\n",
       "      <td>100</td>\n",
       "    </tr>\n",
       "    <tr>\n",
       "      <th>3</th>\n",
       "      <td>78</td>\n",
       "      <td>78</td>\n",
       "    </tr>\n",
       "    <tr>\n",
       "      <th>4</th>\n",
       "      <td>364</td>\n",
       "      <td>0</td>\n",
       "    </tr>\n",
       "    <tr>\n",
       "      <th>...</th>\n",
       "      <td>...</td>\n",
       "      <td>...</td>\n",
       "    </tr>\n",
       "    <tr>\n",
       "      <th>20059</th>\n",
       "      <td>265</td>\n",
       "      <td>27</td>\n",
       "    </tr>\n",
       "    <tr>\n",
       "      <th>20060</th>\n",
       "      <td>270</td>\n",
       "      <td>26</td>\n",
       "    </tr>\n",
       "    <tr>\n",
       "      <th>20061</th>\n",
       "      <td>269</td>\n",
       "      <td>26</td>\n",
       "    </tr>\n",
       "    <tr>\n",
       "      <th>20062</th>\n",
       "      <td>87</td>\n",
       "      <td>76</td>\n",
       "    </tr>\n",
       "    <tr>\n",
       "      <th>20063</th>\n",
       "      <td>264</td>\n",
       "      <td>27</td>\n",
       "    </tr>\n",
       "  </tbody>\n",
       "</table>\n",
       "<p>20064 rows × 2 columns</p>\n",
       "</div>"
      ],
      "text/plain": [
       "       availability_365  ocupacion\n",
       "0                   161         55\n",
       "1                     0        100\n",
       "2                     0        100\n",
       "3                    78         78\n",
       "4                   364          0\n",
       "...                 ...        ...\n",
       "20059               265         27\n",
       "20060               270         26\n",
       "20061               269         26\n",
       "20062                87         76\n",
       "20063               264         27\n",
       "\n",
       "[20064 rows x 2 columns]"
      ]
     },
     "execution_count": 11,
     "metadata": {},
     "output_type": "execute_result"
    }
   ],
   "source": [
    "df[['availability_365' , 'ocupacion']]"
   ]
  },
  {
   "cell_type": "markdown",
   "id": "251be499",
   "metadata": {},
   "source": [
    "**Ranking de barrios de caba con mayor ocupación**"
   ]
  },
  {
   "cell_type": "code",
   "execution_count": 17,
   "id": "f2aa8f93",
   "metadata": {},
   "outputs": [
    {
     "data": {
      "text/plain": [
       "neighbourhood\n",
       "Villa Riachuelo      100.000000\n",
       "Puerto Madero         69.923077\n",
       "Villa Gral. Mitre     55.482759\n",
       "Boca                  52.192308\n",
       "Villa Real            50.250000\n",
       "Palermo               45.792694\n",
       "Saavedra              45.652941\n",
       "San Nicolas           45.557803\n",
       "Monserrat             44.979478\n",
       "Retiro                44.963041\n",
       "Villa Crespo          44.836478\n",
       "Parque Avellaneda     44.666667\n",
       "San Cristobal         44.359477\n",
       "Recoleta              44.351071\n",
       "Constitucion          44.309148\n",
       "San Telmo             44.272887\n",
       "Agronomia             44.138889\n",
       "Parque Chacabuco      44.135593\n",
       "Balvanera             43.914352\n",
       "Velez Sarsfield       43.625000\n",
       "Nuñez                 43.171247\n",
       "Belgrano              43.162811\n",
       "Colegiales            43.047281\n",
       "Villa Santa Rita      43.031250\n",
       "Caballito             42.546351\n",
       "Mataderos             42.300000\n",
       "Paternal              41.348837\n",
       "Coghlan               40.909091\n",
       "Villa Urquiza         40.521875\n",
       "Almagro               40.518600\n",
       "Boedo                 40.474359\n",
       "Chacarita             40.474227\n",
       "Villa Luro            39.777778\n",
       "Villa Ortuzar         39.628866\n",
       "Parque Chas           38.031746\n",
       "Versalles             37.600000\n",
       "Villa Devoto          37.450704\n",
       "Barracas              37.375000\n",
       "Villa Pueyrredon      36.759259\n",
       "Nueva Pompeya         36.571429\n",
       "Parque Patricios      35.610169\n",
       "Monte Castro          35.100000\n",
       "Floresta              34.285714\n",
       "Flores                30.403361\n",
       "Villa Del Parque      28.955056\n",
       "Liniers               19.142857\n",
       "Villa Lugano          15.600000\n",
       "Name: ocupacion, dtype: float64"
      ]
     },
     "execution_count": 17,
     "metadata": {},
     "output_type": "execute_result"
    }
   ],
   "source": [
    "df.groupby('neighbourhood').ocupacion.mean().sort_values(ascending=False)"
   ]
  },
  {
   "cell_type": "markdown",
   "id": "635f218e",
   "metadata": {},
   "source": [
    "### Transformación de varaibles de análisis"
   ]
  },
  {
   "cell_type": "markdown",
   "id": "ae0631b9",
   "metadata": {},
   "source": [
    "Algunas de las preguntas semilla están dirigidas a comprobar, cómo se comporta el precio o la ocupación según otras variables como el número de habitaciones, la media de valoraciones, etc.\n",
    "\n",
    "Normalmente podremos hacer mejor estos análisis si discretizamos la variable de análisis.\n",
    "\n",
    "En nuestro caso las candidatas para este análisis son: accommodates, bedrooms, beds y number_of_reviews.\n",
    "\n",
    "En bedrooms tiene sentido una discretización más personalizada. En las otras podemos hacerla automática."
   ]
  },
  {
   "cell_type": "markdown",
   "id": "730d4866",
   "metadata": {},
   "source": [
    "**Discretizar bedrooms**\n",
    "\n",
    "Comenzamos por evaluar la distribución de los datos"
   ]
  },
  {
   "cell_type": "code",
   "execution_count": 18,
   "id": "96fc70bb",
   "metadata": {
    "scrolled": true
   },
   "outputs": [
    {
     "data": {
      "image/png": "[encoded data removed]",
      "text/plain": [
       "<Figure size 640x480 with 1 Axes>"
      ]
     },
     "metadata": {},
     "output_type": "display_data"
    }
   ],
   "source": [
    "df.bedrooms.value_counts().plot.bar();"
   ]
  },
  {
   "cell_type": "markdown",
   "id": "4e46f474",
   "metadata": {},
   "source": [
    "Vamos a discretizar para 1,2,3 y más de 3.\n",
    "\n",
    "Podemos usar np.select"
   ]
  },
  {
   "cell_type": "code",
   "execution_count": 19,
   "id": "d82f1efc",
   "metadata": {},
   "outputs": [],
   "source": [
    "condiciones = [ df.bedrooms == 1,\n",
    "                df.bedrooms == 2,\n",
    "                df.bedrooms == 3,\n",
    "                df.bedrooms > 3\n",
    "              ]\n",
    "\n",
    "resultados = ['01_Una', '02_Dos', '03_Tres', '04_Cuatro o mas']\n",
    "\n",
    "df['bedrooms_disc'] = np.select(condiciones, resultados, default = -999)"
   ]
  },
  {
   "cell_type": "markdown",
   "id": "c0398e13",
   "metadata": {},
   "source": [
    "Comprobamos"
   ]
  },
  {
   "cell_type": "code",
   "execution_count": 20,
   "id": "76eb4bf8",
   "metadata": {
    "scrolled": true
   },
   "outputs": [
    {
     "data": {
      "text/plain": [
       "bedrooms_disc\n",
       "01_Una             17459\n",
       "02_Dos              2421\n",
       "03_Tres              142\n",
       "04_Cuatro o mas       42\n",
       "Name: count, dtype: int64"
      ]
     },
     "execution_count": 20,
     "metadata": {},
     "output_type": "execute_result"
    }
   ],
   "source": [
    "df['bedrooms_disc'].value_counts()"
   ]
  },
  {
   "cell_type": "markdown",
   "id": "330ab405",
   "metadata": {},
   "source": [
    "**Discretizar accommodates, beds y number_of_reviews**\n",
    "\n",
    "Vamos a usar qcut para discritizar con percentiles 0.5, 0.8, 1"
   ]
  },
  {
   "cell_type": "markdown",
   "id": "d144cecf",
   "metadata": {},
   "source": [
    "**accommodates**"
   ]
  },
  {
   "cell_type": "code",
   "execution_count": 21,
   "id": "e7e63265",
   "metadata": {
    "scrolled": true
   },
   "outputs": [
    {
     "data": {
      "text/plain": [
       "<Axes: xlabel='accommodates'>"
      ]
     },
     "execution_count": 21,
     "metadata": {},
     "output_type": "execute_result"
    },
    {
     "data": {
      "image/png": "[encoded data removed]",
      "text/plain": [
       "<Figure size 640x480 with 1 Axes>"
      ]
     },
     "metadata": {},
     "output_type": "display_data"
    }
   ],
   "source": [
    "df.accommodates.value_counts(dropna=False).plot.bar()"
   ]
  },
  {
   "cell_type": "code",
   "execution_count": 22,
   "id": "f307ef5e",
   "metadata": {},
   "outputs": [
    {
     "data": {
      "text/plain": [
       "<Axes: xlabel='accommodates'>"
      ]
     },
     "execution_count": 22,
     "metadata": {},
     "output_type": "execute_result"
    },
    {
     "data": {
      "image/png": "[encoded data removed]",
      "text/plain": [
       "<Figure size 640x480 with 1 Axes>"
      ]
     },
     "metadata": {},
     "output_type": "display_data"
    }
   ],
   "source": [
    "pd.qcut(df.accommodates,[0,0.5,0.8,1]).value_counts().plot.bar()"
   ]
  },
  {
   "cell_type": "code",
   "execution_count": 23,
   "id": "99c1b88b",
   "metadata": {},
   "outputs": [],
   "source": [
    "df['accommodates_disc'] = pd.qcut(df.accommodates,[0,0.5,0.8,1],\n",
    "       labels = ['0-2', '3','4-16'])"
   ]
  },
  {
   "cell_type": "code",
   "execution_count": 24,
   "id": "2b193316",
   "metadata": {
    "scrolled": true
   },
   "outputs": [
    {
     "data": {
      "text/plain": [
       "<Axes: xlabel='accommodates_disc'>"
      ]
     },
     "execution_count": 24,
     "metadata": {},
     "output_type": "execute_result"
    },
    {
     "data": {
      "image/png": "[encoded data removed]",
      "text/plain": [
       "<Figure size 640x480 with 1 Axes>"
      ]
     },
     "metadata": {},
     "output_type": "display_data"
    }
   ],
   "source": [
    "df['accommodates_disc'].value_counts().plot.bar()"
   ]
  },
  {
   "cell_type": "markdown",
   "id": "b6b48098",
   "metadata": {},
   "source": [
    "**beds**"
   ]
  },
  {
   "cell_type": "code",
   "execution_count": 25,
   "id": "ff3dc599",
   "metadata": {
    "scrolled": true
   },
   "outputs": [
    {
     "data": {
      "text/plain": [
       "<Axes: xlabel='beds'>"
      ]
     },
     "execution_count": 25,
     "metadata": {},
     "output_type": "execute_result"
    },
    {
     "data": {
      "image/png": "[encoded data removed]",
      "text/plain": [
       "<Figure size 640x480 with 1 Axes>"
      ]
     },
     "metadata": {},
     "output_type": "display_data"
    }
   ],
   "source": [
    "df.beds.value_counts(dropna=False).plot.bar()"
   ]
  },
  {
   "cell_type": "code",
   "execution_count": 26,
   "id": "0b8c6159",
   "metadata": {
    "scrolled": false
   },
   "outputs": [
    {
     "data": {
      "text/plain": [
       "<Axes: xlabel='beds'>"
      ]
     },
     "execution_count": 26,
     "metadata": {},
     "output_type": "execute_result"
    },
    {
     "data": {
      "image/png": "[encoded data removed]",
      "text/plain": [
       "<Figure size 640x480 with 1 Axes>"
      ]
     },
     "metadata": {},
     "output_type": "display_data"
    }
   ],
   "source": [
    "pd.qcut(df.beds,[0, 0.25, 0.5, 0.75, 1], duplicates= 'drop').value_counts().plot.bar()"
   ]
  },
  {
   "cell_type": "code",
   "execution_count": 27,
   "id": "66e98f81",
   "metadata": {
    "scrolled": true
   },
   "outputs": [
    {
     "data": {
      "text/plain": [
       "<Axes: xlabel='beds'>"
      ]
     },
     "execution_count": 27,
     "metadata": {},
     "output_type": "execute_result"
    },
    {
     "data": {
      "image/png": "[encoded data removed]",
      "text/plain": [
       "<Figure size 640x480 with 1 Axes>"
      ]
     },
     "metadata": {},
     "output_type": "display_data"
    }
   ],
   "source": [
    "pd.qcut(df.beds,[0, 0.25, 0.5, 0.75, 1],labels = ['0-2', '3-17'], duplicates= 'drop').value_counts().plot.bar()"
   ]
  },
  {
   "cell_type": "code",
   "execution_count": 28,
   "id": "60f61147",
   "metadata": {},
   "outputs": [],
   "source": [
    "df['beds_disc'] = pd.qcut(df.beds,[0, 0.25, 0.5, 0.75, 1],labels = ['0-2', '3-17'], duplicates= 'drop')"
   ]
  },
  {
   "cell_type": "markdown",
   "id": "9a6450ef",
   "metadata": {},
   "source": [
    "Comprobamos"
   ]
  },
  {
   "cell_type": "code",
   "execution_count": 29,
   "id": "004ef01d",
   "metadata": {
    "scrolled": true
   },
   "outputs": [
    {
     "data": {
      "text/plain": [
       "<Axes: xlabel='beds_disc'>"
      ]
     },
     "execution_count": 29,
     "metadata": {},
     "output_type": "execute_result"
    },
    {
     "data": {
      "image/png": "[encoded data removed]",
      "text/plain": [
       "<Figure size 640x480 with 1 Axes>"
      ]
     },
     "metadata": {},
     "output_type": "display_data"
    }
   ],
   "source": [
    "df['beds_disc'].value_counts().plot.bar()"
   ]
  },
  {
   "cell_type": "markdown",
   "id": "d2856edf",
   "metadata": {},
   "source": [
    "**number_of_reviews**"
   ]
  },
  {
   "cell_type": "code",
   "execution_count": 30,
   "id": "97fc8881",
   "metadata": {
    "scrolled": true
   },
   "outputs": [
    {
     "data": {
      "text/plain": [
       "<Axes: xlabel='number_of_reviews'>"
      ]
     },
     "execution_count": 30,
     "metadata": {},
     "output_type": "execute_result"
    },
    {
     "data": {
      "image/png": "[encoded data removed]",
      "text/plain": [
       "<Figure size 640x480 with 1 Axes>"
      ]
     },
     "metadata": {},
     "output_type": "display_data"
    }
   ],
   "source": [
    "df['number_of_reviews'].value_counts().plot.bar()"
   ]
  },
  {
   "cell_type": "code",
   "execution_count": 31,
   "id": "e0e18545",
   "metadata": {
    "scrolled": false
   },
   "outputs": [
    {
     "data": {
      "text/plain": [
       "<Axes: xlabel='number_of_reviews'>"
      ]
     },
     "execution_count": 31,
     "metadata": {},
     "output_type": "execute_result"
    },
    {
     "data": {
      "image/png": "[encoded data removed]",
      "text/plain": [
       "<Figure size 640x480 with 1 Axes>"
      ]
     },
     "metadata": {},
     "output_type": "display_data"
    }
   ],
   "source": [
    "pd.qcut(df.number_of_reviews,[0,0.5,0.8,1]).value_counts().plot.bar()"
   ]
  },
  {
   "cell_type": "code",
   "execution_count": 32,
   "id": "43c4d75c",
   "metadata": {
    "scrolled": false
   },
   "outputs": [
    {
     "data": {
      "text/plain": [
       "<Axes: xlabel='number_of_reviews'>"
      ]
     },
     "execution_count": 32,
     "metadata": {},
     "output_type": "execute_result"
    },
    {
     "data": {
      "image/png": "[encoded data removed]",
      "text/plain": [
       "<Figure size 640x480 with 1 Axes>"
      ]
     },
     "metadata": {},
     "output_type": "display_data"
    }
   ],
   "source": [
    "pd.qcut(df.number_of_reviews,[0,0.5,0.8,1],\n",
    "       labels = ['0-9', '10-34', '35-687']).value_counts().plot.bar()"
   ]
  },
  {
   "cell_type": "code",
   "execution_count": 33,
   "id": "2f4a6552",
   "metadata": {},
   "outputs": [],
   "source": [
    "df['number_of_reviews_disc'] = pd.qcut(df.number_of_reviews,[0,0.5,0.8,1],\n",
    "       labels = ['0-9', '10-34', '35-687'])"
   ]
  },
  {
   "cell_type": "markdown",
   "id": "d6409100",
   "metadata": {},
   "source": [
    "Comprobamos"
   ]
  },
  {
   "cell_type": "code",
   "execution_count": 34,
   "id": "94a62ecf",
   "metadata": {
    "scrolled": true
   },
   "outputs": [
    {
     "data": {
      "text/plain": [
       "<Axes: xlabel='number_of_reviews_disc'>"
      ]
     },
     "execution_count": 34,
     "metadata": {},
     "output_type": "execute_result"
    },
    {
     "data": {
      "image/png": "[encoded data removed]",
      "text/plain": [
       "<Figure size 640x480 with 1 Axes>"
      ]
     },
     "metadata": {},
     "output_type": "display_data"
    }
   ],
   "source": [
    "df['number_of_reviews_disc'].value_counts().plot.bar()"
   ]
  },
  {
   "cell_type": "markdown",
   "id": "bb47221f",
   "metadata": {},
   "source": [
    "### Creación de variables con datos externos"
   ]
  },
  {
   "cell_type": "markdown",
   "id": "2b0bd386",
   "metadata": {},
   "source": [
    "En este caso en concreto se podrían hacer muchas cosas con datos externos.\n",
    "\n",
    "Lo primero, que ya hemos incorporado parcialmente, es la palanca del precio del inmueble.\n",
    "\n",
    "Decíamos que la podíamos estimar multiplicando los metros cuadrados del inmueble por el precio por m2.\n",
    "\n",
    "El precio_m2 ya lo hemos conseguido, pero el tamaño del inmueble no lo tenemos en los datos.\n",
    "\n",
    "Lo que podemos hacer es establecer unos criterios en base al número de habitaciones.\n",
    "\n",
    "No es perfecto, pero nos servirá de aproximación.\n",
    "\n",
    "**Estimación de los metros cuadrados del inmueble**\n",
    "\n",
    "Vamos usar el siguiente algoritmo:\n",
    "\n",
    "* una habitación: m2 = 35\n",
    "* dos habitaciones: m2 = 55\n",
    "* tres habitaciones: m2 = 75\n",
    "* cuatro habitaciones: m2 = 100\n",
    "* cinco o más habitaciones: m2 = 120"
   ]
  },
  {
   "cell_type": "code",
   "execution_count": 35,
   "id": "79790275",
   "metadata": {},
   "outputs": [],
   "source": [
    "condiciones = [ df.bedrooms == 1,\n",
    "                df.bedrooms == 2,\n",
    "                df.bedrooms == 3,\n",
    "                df.bedrooms == 4,\n",
    "                df.bedrooms >4\n",
    "              ]\n",
    "\n",
    "resultados = [35, 55, 75, 100, 120]\n",
    "\n",
    "df['m2'] = np.select(condiciones, resultados, default=-999)"
   ]
  },
  {
   "cell_type": "code",
   "execution_count": 36,
   "id": "b5d5125c",
   "metadata": {
    "scrolled": true
   },
   "outputs": [
    {
     "data": {
      "text/plain": [
       "m2\n",
       "35     17459\n",
       "55      2421\n",
       "75       142\n",
       "100       42\n",
       "Name: count, dtype: int64"
      ]
     },
     "execution_count": 36,
     "metadata": {},
     "output_type": "execute_result"
    }
   ],
   "source": [
    "df['m2'].value_counts()"
   ]
  },
  {
   "cell_type": "markdown",
   "id": "42796398",
   "metadata": {},
   "source": [
    "Ahora ya podemos estimar el precio de compra del inmueble.\n",
    "\n",
    "Recordamos que al precio que nos sale le quitábamos un 30% por capacidad de negociación."
   ]
  },
  {
   "cell_type": "code",
   "execution_count": 37,
   "id": "f0f6d67c",
   "metadata": {},
   "outputs": [],
   "source": [
    "df['precio_compra'] = df['m2'] * df['precio_m2'] * 0.7"
   ]
  },
  {
   "cell_type": "markdown",
   "id": "a3e9a66f",
   "metadata": {},
   "source": [
    "Comprobamos"
   ]
  },
  {
   "cell_type": "code",
   "execution_count": 38,
   "id": "2e2ad153",
   "metadata": {},
   "outputs": [
    {
     "name": "stdout",
     "output_type": "stream",
     "text": [
      "<class 'pandas.core.frame.DataFrame'>\n",
      "RangeIndex: 20064 entries, 0 to 20063\n",
      "Data columns (total 32 columns):\n",
      " #   Column                          Non-Null Count  Dtype   \n",
      "---  ------                          --------------  -----   \n",
      " 0   id                              20064 non-null  int64   \n",
      " 1   name                            20064 non-null  object  \n",
      " 2   host_id                         20064 non-null  int64   \n",
      " 3   neighbourhood                   20064 non-null  object  \n",
      " 4   latitude                        20064 non-null  float64 \n",
      " 5   longitude                       20064 non-null  float64 \n",
      " 6   room_type                       20064 non-null  object  \n",
      " 7   price                           20064 non-null  float64 \n",
      " 8   minimum_nights                  20064 non-null  int64   \n",
      " 9   calculated_host_listings_count  20064 non-null  int64   \n",
      " 10  availability_365                20064 non-null  int64   \n",
      " 11  neighbourhood_cleansed          20064 non-null  object  \n",
      " 12  host_is_superhost               20015 non-null  object  \n",
      " 13  accommodates                    20064 non-null  int64   \n",
      " 14  bathrooms                       20064 non-null  float64 \n",
      " 15  bedrooms                        20064 non-null  float64 \n",
      " 16  beds                            20064 non-null  float64 \n",
      " 17  number_of_reviews               20064 non-null  int64   \n",
      " 18  review_scores_rating            16900 non-null  float64 \n",
      " 19  review_scores_communication     16897 non-null  float64 \n",
      " 20  review_scores_location          16895 non-null  float64 \n",
      " 21  index                           20064 non-null  int64   \n",
      " 22  barrio                          20064 non-null  object  \n",
      " 23  precio_m2                       20064 non-null  int64   \n",
      " 24  precio_total                    20064 non-null  float64 \n",
      " 25  ocupacion                       20064 non-null  int64   \n",
      " 26  bedrooms_disc                   20064 non-null  object  \n",
      " 27  accommodates_disc               20064 non-null  category\n",
      " 28  beds_disc                       20064 non-null  category\n",
      " 29  number_of_reviews_disc          20064 non-null  category\n",
      " 30  m2                              20064 non-null  int32   \n",
      " 31  precio_compra                   20064 non-null  float64 \n",
      "dtypes: category(3), float64(11), int32(1), int64(10), object(7)\n",
      "memory usage: 4.4+ MB\n"
     ]
    }
   ],
   "source": [
    "df.info()"
   ]
  },
  {
   "cell_type": "code",
   "execution_count": 39,
   "id": "77573fe2",
   "metadata": {
    "scrolled": false
   },
   "outputs": [
    {
     "data": {
      "text/html": [
       "<div>\n",
       "<style scoped>\n",
       "    .dataframe tbody tr th:only-of-type {\n",
       "        vertical-align: middle;\n",
       "    }\n",
       "\n",
       "    .dataframe tbody tr th {\n",
       "        vertical-align: top;\n",
       "    }\n",
       "\n",
       "    .dataframe thead th {\n",
       "        text-align: right;\n",
       "    }\n",
       "</style>\n",
       "<table border=\"1\" class=\"dataframe\">\n",
       "  <thead>\n",
       "    <tr style=\"text-align: right;\">\n",
       "      <th></th>\n",
       "      <th>bedrooms</th>\n",
       "      <th>m2</th>\n",
       "      <th>barrio</th>\n",
       "      <th>precio_m2</th>\n",
       "      <th>precio_compra</th>\n",
       "    </tr>\n",
       "  </thead>\n",
       "  <tbody>\n",
       "    <tr>\n",
       "      <th>0</th>\n",
       "      <td>1.0</td>\n",
       "      <td>35</td>\n",
       "      <td>Palermo</td>\n",
       "      <td>2917</td>\n",
       "      <td>71466.5</td>\n",
       "    </tr>\n",
       "    <tr>\n",
       "      <th>1</th>\n",
       "      <td>1.0</td>\n",
       "      <td>35</td>\n",
       "      <td>Nuñez</td>\n",
       "      <td>2643</td>\n",
       "      <td>64753.5</td>\n",
       "    </tr>\n",
       "    <tr>\n",
       "      <th>2</th>\n",
       "      <td>1.0</td>\n",
       "      <td>35</td>\n",
       "      <td>Constitucion</td>\n",
       "      <td>1650</td>\n",
       "      <td>40425.0</td>\n",
       "    </tr>\n",
       "    <tr>\n",
       "      <th>3</th>\n",
       "      <td>1.0</td>\n",
       "      <td>35</td>\n",
       "      <td>San Nicolas</td>\n",
       "      <td>1734</td>\n",
       "      <td>42483.0</td>\n",
       "    </tr>\n",
       "    <tr>\n",
       "      <th>4</th>\n",
       "      <td>1.0</td>\n",
       "      <td>35</td>\n",
       "      <td>Almagro</td>\n",
       "      <td>1974</td>\n",
       "      <td>48363.0</td>\n",
       "    </tr>\n",
       "    <tr>\n",
       "      <th>...</th>\n",
       "      <td>...</td>\n",
       "      <td>...</td>\n",
       "      <td>...</td>\n",
       "      <td>...</td>\n",
       "      <td>...</td>\n",
       "    </tr>\n",
       "    <tr>\n",
       "      <th>20059</th>\n",
       "      <td>1.0</td>\n",
       "      <td>35</td>\n",
       "      <td>Balvanera</td>\n",
       "      <td>1628</td>\n",
       "      <td>39886.0</td>\n",
       "    </tr>\n",
       "    <tr>\n",
       "      <th>20060</th>\n",
       "      <td>1.0</td>\n",
       "      <td>35</td>\n",
       "      <td>Recoleta</td>\n",
       "      <td>2510</td>\n",
       "      <td>61495.0</td>\n",
       "    </tr>\n",
       "    <tr>\n",
       "      <th>20061</th>\n",
       "      <td>1.0</td>\n",
       "      <td>35</td>\n",
       "      <td>Monserrat</td>\n",
       "      <td>1942</td>\n",
       "      <td>47579.0</td>\n",
       "    </tr>\n",
       "    <tr>\n",
       "      <th>20062</th>\n",
       "      <td>1.0</td>\n",
       "      <td>35</td>\n",
       "      <td>San Nicolas</td>\n",
       "      <td>1734</td>\n",
       "      <td>42483.0</td>\n",
       "    </tr>\n",
       "    <tr>\n",
       "      <th>20063</th>\n",
       "      <td>1.0</td>\n",
       "      <td>35</td>\n",
       "      <td>Balvanera</td>\n",
       "      <td>1628</td>\n",
       "      <td>39886.0</td>\n",
       "    </tr>\n",
       "  </tbody>\n",
       "</table>\n",
       "<p>20064 rows × 5 columns</p>\n",
       "</div>"
      ],
      "text/plain": [
       "       bedrooms  m2        barrio  precio_m2  precio_compra\n",
       "0           1.0  35       Palermo       2917        71466.5\n",
       "1           1.0  35         Nuñez       2643        64753.5\n",
       "2           1.0  35  Constitucion       1650        40425.0\n",
       "3           1.0  35   San Nicolas       1734        42483.0\n",
       "4           1.0  35       Almagro       1974        48363.0\n",
       "...         ...  ..           ...        ...            ...\n",
       "20059       1.0  35     Balvanera       1628        39886.0\n",
       "20060       1.0  35      Recoleta       2510        61495.0\n",
       "20061       1.0  35     Monserrat       1942        47579.0\n",
       "20062       1.0  35   San Nicolas       1734        42483.0\n",
       "20063       1.0  35     Balvanera       1628        39886.0\n",
       "\n",
       "[20064 rows x 5 columns]"
      ]
     },
     "execution_count": 39,
     "metadata": {},
     "output_type": "execute_result"
    }
   ],
   "source": [
    "df[['bedrooms', 'm2', 'barrio', 'precio_m2', 'precio_compra']]"
   ]
  },
  {
   "cell_type": "markdown",
   "id": "95aafa1d",
   "metadata": {},
   "source": [
    "**Cálculo de la distancia de cada inmueble al Rosedal de Palermo**\n",
    "\n",
    "Dada la curvatura de la tierra la distancia entre dos puntos a partir de su latitud y longitud se calcula con una fórmula que se llama distancia de Haversine.\n",
    "\n",
    "Una búsqueda en Google nos da una función ya construída para calcularla que podemos adaptar: https://stackoverflow.com/questions/4913349/haversine-formula-in-python-bearing-and-distance-between-two-gps-points"
   ]
  },
  {
   "cell_type": "code",
   "execution_count": 40,
   "id": "b1a358d2",
   "metadata": {},
   "outputs": [],
   "source": [
    "from math import radians, cos, sin, asin, sqrt\n",
    "\n",
    "def haversine(lat1, lon1, lat2, lon2):\n",
    "\n",
    "      R = 6372.8 #En km, si usas millas tienes que cambiarlo por 3959.87433\n",
    "\n",
    "      dLat = radians(lat2 - lat1)\n",
    "      dLon = radians(lon2 - lon1)\n",
    "      lat1 = radians(lat1)\n",
    "      lat2 = radians(lat2)\n",
    "\n",
    "      a = sin(dLat/2)**2 + cos(lat1)*cos(lat2)*sin(dLon/2)**2\n",
    "      c = 2*asin(sqrt(a))\n",
    "\n",
    "      return R * c"
   ]
  },
  {
   "cell_type": "markdown",
   "id": "c35999e3",
   "metadata": {},
   "source": [
    "Creando las variables, con latitud y longitud hacia el rosedal de palermo."
   ]
  },
  {
   "cell_type": "code",
   "execution_count": 41,
   "id": "5c07ae99",
   "metadata": {},
   "outputs": [],
   "source": [
    "#Las coordenadas del Rosedal de Palermo, serán lat1 y lon1\n",
    "lat1 = -34.57222\n",
    "lon1 = -58.41544\n",
    "\n",
    "df['pdi_rosedal'] = df.apply(lambda registro: haversine(lat1, lon1, registro.latitude, registro.longitude), axis=1)"
   ]
  },
  {
   "cell_type": "code",
   "execution_count": 42,
   "id": "39f203c2",
   "metadata": {
    "scrolled": true
   },
   "outputs": [
    {
     "data": {
      "text/plain": [
       "neighbourhood\n",
       "Palermo               1.903164\n",
       "Recoleta              2.664869\n",
       "Colegiales            3.140253\n",
       "Chacarita             3.426625\n",
       "Villa Crespo          3.534055\n",
       "Almagro               3.746192\n",
       "Belgrano              3.947448\n",
       "Balvanera             4.025733\n",
       "Retiro                4.125355\n",
       "San Nicolas           4.633710\n",
       "Villa Ortuzar         5.021764\n",
       "Nuñez                 5.149630\n",
       "Caballito             5.431717\n",
       "Coghlan               5.446074\n",
       "Paternal              5.531022\n",
       "Monserrat             5.627970\n",
       "Parque Chas           5.737269\n",
       "San Cristobal         5.747780\n",
       "Boedo                 6.033760\n",
       "Villa Gral. Mitre     6.278648\n",
       "Constitucion          6.294044\n",
       "Saavedra              6.430185\n",
       "Villa Urquiza         6.431215\n",
       "San Telmo             6.613738\n",
       "Parque Patricios      6.952869\n",
       "Puerto Madero         7.056019\n",
       "Parque Chacabuco      7.109320\n",
       "Agronomia             7.307978\n",
       "Flores                7.414495\n",
       "Villa Del Parque      7.422379\n",
       "Villa Santa Rita      7.590719\n",
       "Barracas              7.839085\n",
       "Villa Pueyrredon      8.021373\n",
       "Boca                  8.147683\n",
       "Nueva Pompeya         8.302598\n",
       "Floresta              8.879126\n",
       "Villa Devoto          9.440594\n",
       "Velez Sarsfield       9.725852\n",
       "Parque Avellaneda     9.733088\n",
       "Monte Castro          9.812629\n",
       "Villa Luro           10.682634\n",
       "Versalles            11.441142\n",
       "Villa Real           11.674354\n",
       "Mataderos            11.697468\n",
       "Liniers              12.209158\n",
       "Villa Lugano         12.289459\n",
       "Villa Riachuelo      14.639980\n",
       "Name: pdi_rosedal, dtype: float64"
      ]
     },
     "execution_count": 42,
     "metadata": {},
     "output_type": "execute_result"
    }
   ],
   "source": [
    "df.groupby('neighbourhood').pdi_rosedal.mean().sort_values()"
   ]
  },
  {
   "cell_type": "markdown",
   "id": "a6bf090b",
   "metadata": {},
   "source": [
    "Guardando..."
   ]
  },
  {
   "cell_type": "code",
   "execution_count": 43,
   "id": "722fb6cf",
   "metadata": {},
   "outputs": [
    {
     "data": {
      "text/plain": [
       "20064"
      ]
     },
     "execution_count": 43,
     "metadata": {},
     "output_type": "execute_result"
    }
   ],
   "source": [
    "df.to_sql(name = 'df_preparado', con = con, if_exists = 'replace')"
   ]
  },
  {
   "cell_type": "code",
   "execution_count": 44,
   "id": "9af699c5",
   "metadata": {},
   "outputs": [
    {
     "name": "stdout",
     "output_type": "stream",
     "text": [
      "<class 'pandas.core.frame.DataFrame'>\n",
      "RangeIndex: 20064 entries, 0 to 20063\n",
      "Data columns (total 33 columns):\n",
      " #   Column                          Non-Null Count  Dtype   \n",
      "---  ------                          --------------  -----   \n",
      " 0   id                              20064 non-null  int64   \n",
      " 1   name                            20064 non-null  object  \n",
      " 2   host_id                         20064 non-null  int64   \n",
      " 3   neighbourhood                   20064 non-null  object  \n",
      " 4   latitude                        20064 non-null  float64 \n",
      " 5   longitude                       20064 non-null  float64 \n",
      " 6   room_type                       20064 non-null  object  \n",
      " 7   price                           20064 non-null  float64 \n",
      " 8   minimum_nights                  20064 non-null  int64   \n",
      " 9   calculated_host_listings_count  20064 non-null  int64   \n",
      " 10  availability_365                20064 non-null  int64   \n",
      " 11  neighbourhood_cleansed          20064 non-null  object  \n",
      " 12  host_is_superhost               20015 non-null  object  \n",
      " 13  accommodates                    20064 non-null  int64   \n",
      " 14  bathrooms                       20064 non-null  float64 \n",
      " 15  bedrooms                        20064 non-null  float64 \n",
      " 16  beds                            20064 non-null  float64 \n",
      " 17  number_of_reviews               20064 non-null  int64   \n",
      " 18  review_scores_rating            16900 non-null  float64 \n",
      " 19  review_scores_communication     16897 non-null  float64 \n",
      " 20  review_scores_location          16895 non-null  float64 \n",
      " 21  index                           20064 non-null  int64   \n",
      " 22  barrio                          20064 non-null  object  \n",
      " 23  precio_m2                       20064 non-null  int64   \n",
      " 24  precio_total                    20064 non-null  float64 \n",
      " 25  ocupacion                       20064 non-null  int64   \n",
      " 26  bedrooms_disc                   20064 non-null  object  \n",
      " 27  accommodates_disc               20064 non-null  category\n",
      " 28  beds_disc                       20064 non-null  category\n",
      " 29  number_of_reviews_disc          20064 non-null  category\n",
      " 30  m2                              20064 non-null  int32   \n",
      " 31  precio_compra                   20064 non-null  float64 \n",
      " 32  pdi_rosedal                     20064 non-null  float64 \n",
      "dtypes: category(3), float64(12), int32(1), int64(10), object(7)\n",
      "memory usage: 4.6+ MB\n"
     ]
    }
   ],
   "source": [
    "df.info()"
   ]
  },
  {
   "cell_type": "code",
   "execution_count": 45,
   "id": "a8bbb832",
   "metadata": {},
   "outputs": [
    {
     "data": {
      "text/html": [
       "<div>\n",
       "<style scoped>\n",
       "    .dataframe tbody tr th:only-of-type {\n",
       "        vertical-align: middle;\n",
       "    }\n",
       "\n",
       "    .dataframe tbody tr th {\n",
       "        vertical-align: top;\n",
       "    }\n",
       "\n",
       "    .dataframe thead th {\n",
       "        text-align: right;\n",
       "    }\n",
       "</style>\n",
       "<table border=\"1\" class=\"dataframe\">\n",
       "  <thead>\n",
       "    <tr style=\"text-align: right;\">\n",
       "      <th></th>\n",
       "      <th>id</th>\n",
       "      <th>name</th>\n",
       "      <th>host_id</th>\n",
       "      <th>neighbourhood</th>\n",
       "      <th>latitude</th>\n",
       "      <th>longitude</th>\n",
       "      <th>room_type</th>\n",
       "      <th>price</th>\n",
       "      <th>minimum_nights</th>\n",
       "      <th>calculated_host_listings_count</th>\n",
       "      <th>availability_365</th>\n",
       "      <th>neighbourhood_cleansed</th>\n",
       "      <th>host_is_superhost</th>\n",
       "      <th>accommodates</th>\n",
       "      <th>bathrooms</th>\n",
       "      <th>bedrooms</th>\n",
       "      <th>beds</th>\n",
       "      <th>number_of_reviews</th>\n",
       "      <th>review_scores_rating</th>\n",
       "      <th>review_scores_communication</th>\n",
       "      <th>review_scores_location</th>\n",
       "      <th>index</th>\n",
       "      <th>barrio</th>\n",
       "      <th>precio_m2</th>\n",
       "      <th>precio_total</th>\n",
       "      <th>ocupacion</th>\n",
       "      <th>bedrooms_disc</th>\n",
       "      <th>accommodates_disc</th>\n",
       "      <th>beds_disc</th>\n",
       "      <th>number_of_reviews_disc</th>\n",
       "      <th>m2</th>\n",
       "      <th>precio_compra</th>\n",
       "      <th>pdi_rosedal</th>\n",
       "    </tr>\n",
       "  </thead>\n",
       "  <tbody>\n",
       "    <tr>\n",
       "      <th>0</th>\n",
       "      <td>14222</td>\n",
       "      <td>Rental unit in Palermo/Buenos Aires · ★4.77 · ...</td>\n",
       "      <td>87710233</td>\n",
       "      <td>Palermo</td>\n",
       "      <td>-34.58617</td>\n",
       "      <td>-58.41036</td>\n",
       "      <td>Entire home/apt</td>\n",
       "      <td>32123.0</td>\n",
       "      <td>7</td>\n",
       "      <td>8</td>\n",
       "      <td>161</td>\n",
       "      <td>Palermo</td>\n",
       "      <td>t</td>\n",
       "      <td>2</td>\n",
       "      <td>1.0</td>\n",
       "      <td>1.0</td>\n",
       "      <td>1.0</td>\n",
       "      <td>114</td>\n",
       "      <td>4.77</td>\n",
       "      <td>4.89</td>\n",
       "      <td>4.87</td>\n",
       "      <td>45</td>\n",
       "      <td>Palermo</td>\n",
       "      <td>2917</td>\n",
       "      <td>32123.0</td>\n",
       "      <td>55</td>\n",
       "      <td>01_Una</td>\n",
       "      <td>0-2</td>\n",
       "      <td>0-2</td>\n",
       "      <td>35-687</td>\n",
       "      <td>35</td>\n",
       "      <td>71466.5</td>\n",
       "      <td>1.619848</td>\n",
       "    </tr>\n",
       "    <tr>\n",
       "      <th>1</th>\n",
       "      <td>15074</td>\n",
       "      <td>Rental unit in Buenos Aires · 1 bedroom · 1 be...</td>\n",
       "      <td>59338</td>\n",
       "      <td>Nuñez</td>\n",
       "      <td>-34.53892</td>\n",
       "      <td>-58.46599</td>\n",
       "      <td>Private room</td>\n",
       "      <td>24230.0</td>\n",
       "      <td>29</td>\n",
       "      <td>1</td>\n",
       "      <td>0</td>\n",
       "      <td>Nuñez</td>\n",
       "      <td>f</td>\n",
       "      <td>1</td>\n",
       "      <td>1.0</td>\n",
       "      <td>1.0</td>\n",
       "      <td>1.0</td>\n",
       "      <td>0</td>\n",
       "      <td>NaN</td>\n",
       "      <td>NaN</td>\n",
       "      <td>NaN</td>\n",
       "      <td>43</td>\n",
       "      <td>Nuñez</td>\n",
       "      <td>2643</td>\n",
       "      <td>24230.0</td>\n",
       "      <td>100</td>\n",
       "      <td>01_Una</td>\n",
       "      <td>0-2</td>\n",
       "      <td>0-2</td>\n",
       "      <td>0-9</td>\n",
       "      <td>35</td>\n",
       "      <td>64753.5</td>\n",
       "      <td>5.929622</td>\n",
       "    </tr>\n",
       "    <tr>\n",
       "      <th>2</th>\n",
       "      <td>20429</td>\n",
       "      <td>Rental unit in Buenos Aires · 1 bedroom · 1 be...</td>\n",
       "      <td>77065</td>\n",
       "      <td>Constitucion</td>\n",
       "      <td>-34.62260</td>\n",
       "      <td>-58.38704</td>\n",
       "      <td>Entire home/apt</td>\n",
       "      <td>28268.0</td>\n",
       "      <td>15</td>\n",
       "      <td>1</td>\n",
       "      <td>0</td>\n",
       "      <td>Constitucion</td>\n",
       "      <td>f</td>\n",
       "      <td>2</td>\n",
       "      <td>1.0</td>\n",
       "      <td>1.0</td>\n",
       "      <td>1.0</td>\n",
       "      <td>0</td>\n",
       "      <td>NaN</td>\n",
       "      <td>NaN</td>\n",
       "      <td>NaN</td>\n",
       "      <td>8</td>\n",
       "      <td>Constitucion</td>\n",
       "      <td>1650</td>\n",
       "      <td>28268.0</td>\n",
       "      <td>100</td>\n",
       "      <td>01_Una</td>\n",
       "      <td>0-2</td>\n",
       "      <td>0-2</td>\n",
       "      <td>0-9</td>\n",
       "      <td>35</td>\n",
       "      <td>40425.0</td>\n",
       "      <td>6.177485</td>\n",
       "    </tr>\n",
       "    <tr>\n",
       "      <th>3</th>\n",
       "      <td>24713</td>\n",
       "      <td>Rental unit in Buenos Aires · ★4.66 · 1 bedroo...</td>\n",
       "      <td>100743</td>\n",
       "      <td>San Nicolas</td>\n",
       "      <td>-34.60254</td>\n",
       "      <td>-58.37811</td>\n",
       "      <td>Entire home/apt</td>\n",
       "      <td>32242.0</td>\n",
       "      <td>1</td>\n",
       "      <td>8</td>\n",
       "      <td>78</td>\n",
       "      <td>San Nicolas</td>\n",
       "      <td>t</td>\n",
       "      <td>3</td>\n",
       "      <td>1.0</td>\n",
       "      <td>1.0</td>\n",
       "      <td>2.0</td>\n",
       "      <td>377</td>\n",
       "      <td>4.66</td>\n",
       "      <td>4.90</td>\n",
       "      <td>4.84</td>\n",
       "      <td>10</td>\n",
       "      <td>San Nicolas</td>\n",
       "      <td>1734</td>\n",
       "      <td>32242.0</td>\n",
       "      <td>78</td>\n",
       "      <td>01_Una</td>\n",
       "      <td>3</td>\n",
       "      <td>0-2</td>\n",
       "      <td>35-687</td>\n",
       "      <td>35</td>\n",
       "      <td>42483.0</td>\n",
       "      <td>4.801810</td>\n",
       "    </tr>\n",
       "    <tr>\n",
       "      <th>4</th>\n",
       "      <td>26258</td>\n",
       "      <td>Rental unit in Buenos Aires · 1 bedroom · 2 be...</td>\n",
       "      <td>111013</td>\n",
       "      <td>Almagro</td>\n",
       "      <td>-34.59997</td>\n",
       "      <td>-58.41238</td>\n",
       "      <td>Entire home/apt</td>\n",
       "      <td>20151.0</td>\n",
       "      <td>7</td>\n",
       "      <td>1</td>\n",
       "      <td>364</td>\n",
       "      <td>Almagro</td>\n",
       "      <td>f</td>\n",
       "      <td>2</td>\n",
       "      <td>1.0</td>\n",
       "      <td>1.0</td>\n",
       "      <td>2.0</td>\n",
       "      <td>2</td>\n",
       "      <td>3.50</td>\n",
       "      <td>5.00</td>\n",
       "      <td>5.00</td>\n",
       "      <td>25</td>\n",
       "      <td>Almagro</td>\n",
       "      <td>1974</td>\n",
       "      <td>20151.0</td>\n",
       "      <td>0</td>\n",
       "      <td>01_Una</td>\n",
       "      <td>0-2</td>\n",
       "      <td>0-2</td>\n",
       "      <td>0-9</td>\n",
       "      <td>35</td>\n",
       "      <td>48363.0</td>\n",
       "      <td>3.099224</td>\n",
       "    </tr>\n",
       "  </tbody>\n",
       "</table>\n",
       "</div>"
      ],
      "text/plain": [
       "      id                                               name   host_id  \\\n",
       "0  14222  Rental unit in Palermo/Buenos Aires · ★4.77 · ...  87710233   \n",
       "1  15074  Rental unit in Buenos Aires · 1 bedroom · 1 be...     59338   \n",
       "2  20429  Rental unit in Buenos Aires · 1 bedroom · 1 be...     77065   \n",
       "3  24713  Rental unit in Buenos Aires · ★4.66 · 1 bedroo...    100743   \n",
       "4  26258  Rental unit in Buenos Aires · 1 bedroom · 2 be...    111013   \n",
       "\n",
       "  neighbourhood  latitude  longitude        room_type    price  \\\n",
       "0       Palermo -34.58617  -58.41036  Entire home/apt  32123.0   \n",
       "1         Nuñez -34.53892  -58.46599     Private room  24230.0   \n",
       "2  Constitucion -34.62260  -58.38704  Entire home/apt  28268.0   \n",
       "3   San Nicolas -34.60254  -58.37811  Entire home/apt  32242.0   \n",
       "4       Almagro -34.59997  -58.41238  Entire home/apt  20151.0   \n",
       "\n",
       "   minimum_nights  calculated_host_listings_count  availability_365  \\\n",
       "0               7                               8               161   \n",
       "1              29                               1                 0   \n",
       "2              15                               1                 0   \n",
       "3               1                               8                78   \n",
       "4               7                               1               364   \n",
       "\n",
       "  neighbourhood_cleansed host_is_superhost  accommodates  bathrooms  bedrooms  \\\n",
       "0                Palermo                 t             2        1.0       1.0   \n",
       "1                  Nuñez                 f             1        1.0       1.0   \n",
       "2           Constitucion                 f             2        1.0       1.0   \n",
       "3            San Nicolas                 t             3        1.0       1.0   \n",
       "4                Almagro                 f             2        1.0       1.0   \n",
       "\n",
       "   beds  number_of_reviews  review_scores_rating  review_scores_communication  \\\n",
       "0   1.0                114                  4.77                         4.89   \n",
       "1   1.0                  0                   NaN                          NaN   \n",
       "2   1.0                  0                   NaN                          NaN   \n",
       "3   2.0                377                  4.66                         4.90   \n",
       "4   2.0                  2                  3.50                         5.00   \n",
       "\n",
       "   review_scores_location  index        barrio  precio_m2  precio_total  \\\n",
       "0                    4.87     45       Palermo       2917       32123.0   \n",
       "1                     NaN     43         Nuñez       2643       24230.0   \n",
       "2                     NaN      8  Constitucion       1650       28268.0   \n",
       "3                    4.84     10   San Nicolas       1734       32242.0   \n",
       "4                    5.00     25       Almagro       1974       20151.0   \n",
       "\n",
       "   ocupacion bedrooms_disc accommodates_disc beds_disc number_of_reviews_disc  \\\n",
       "0         55        01_Una               0-2       0-2                 35-687   \n",
       "1        100        01_Una               0-2       0-2                    0-9   \n",
       "2        100        01_Una               0-2       0-2                    0-9   \n",
       "3         78        01_Una                 3       0-2                 35-687   \n",
       "4          0        01_Una               0-2       0-2                    0-9   \n",
       "\n",
       "   m2  precio_compra  pdi_rosedal  \n",
       "0  35        71466.5     1.619848  \n",
       "1  35        64753.5     5.929622  \n",
       "2  35        40425.0     6.177485  \n",
       "3  35        42483.0     4.801810  \n",
       "4  35        48363.0     3.099224  "
      ]
     },
     "execution_count": 45,
     "metadata": {},
     "output_type": "execute_result"
    }
   ],
   "source": [
    "df.head()"
   ]
  }
 ],
 "metadata": {
  "kernelspec": {
   "display_name": "Python 3 (ipykernel)",
   "language": "python",
   "name": "python3"
  },
  "language_info": {
   "codemirror_mode": {
    "name": "ipython",
    "version": 3
   },
   "file_extension": ".py",
   "mimetype": "text/x-python",
   "name": "python",
   "nbconvert_exporter": "python",
   "pygments_lexer": "ipython3",
   "version": "3.11.5"
  },
  "toc": {
   "base_numbering": 1,
   "nav_menu": {},
   "number_sections": true,
   "sideBar": true,
   "skip_h1_title": false,
   "title_cell": "Table of Contents",
   "title_sidebar": "Contents",
   "toc_cell": false,
   "toc_position": {
    "height": "calc(100% - 180px)",
    "left": "10px",
    "top": "150px",
    "width": "384px"
   },
   "toc_section_display": true,
   "toc_window_display": true
  },
  "varInspector": {
   "cols": {
    "lenName": 16,
    "lenType": 16,
    "lenVar": 40
   },
   "kernels_config": {
    "python": {
     "delete_cmd_postfix": "",
     "delete_cmd_prefix": "del ",
     "library": "var_list.py",
     "varRefreshCmd": "print(var_dic_list())"
    },
    "r": {
     "delete_cmd_postfix": ") ",
     "delete_cmd_prefix": "rm(",
     "library": "var_list.r",
     "varRefreshCmd": "cat(var_dic_list()) "
    }
   },
   "types_to_exclude": [
    "module",
    "function",
    "builtin_function_or_method",
    "instance",
    "_Feature"
   ],
   "window_display": false
  }
 },
 "nbformat": 4,
 "nbformat_minor": 5
}
